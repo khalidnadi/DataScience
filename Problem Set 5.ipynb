{
 "cells": [
  {
   "cell_type": "code",
   "execution_count": 1,
   "metadata": {},
   "outputs": [],
   "source": [
    "import numpy as np\n",
    "from matplotlib import pyplot"
   ]
  },
  {
   "cell_type": "code",
   "execution_count": 2,
   "metadata": {},
   "outputs": [
    {
     "name": "stdout",
     "output_type": "stream",
     "text": [
      "[[1. 0. 0.]\n",
      " [0. 1. 0.]\n",
      " [0. 0. 1.]]\n"
     ]
    },
    {
     "data": {
      "text/plain": [
       "array([[1., 0., 0.],\n",
       "       [0., 1., 0.],\n",
       "       [0., 0., 1.]])"
      ]
     },
     "execution_count": 2,
     "metadata": {},
     "output_type": "execute_result"
    }
   ],
   "source": [
    "##Numpy arrays are multidimensional arrays (ndarrays) which are very widely used\n",
    "##for basically 2 reasons\n",
    "##(i) have built in methods to execute commonly used linear algebra operations\n",
    "##note that in this context, nd arrays typically represent vectors, matricies, or tensors from math though\n",
    "## its not always that case that the items in side an ndarray are #s\n",
    "X = np.eye(3)\n",
    "print(X)\n",
    "X.transpose()\n",
    "np.linalg.cholesky(X)"
   ]
  },
  {
   "cell_type": "code",
   "execution_count": null,
   "metadata": {},
   "outputs": [],
   "source": []
  },
  {
   "cell_type": "code",
   "execution_count": 4,
   "metadata": {},
   "outputs": [
    {
     "name": "stdout",
     "output_type": "stream",
     "text": [
      "[[1. 1. 1.]\n",
      " [1. 1. 1.]\n",
      " [1. 1. 1.]]\n",
      "[[2. 1. 1.]\n",
      " [1. 2. 1.]\n",
      " [1. 1. 2.]]\n",
      "[[4. 4. 4.]\n",
      " [4. 4. 4.]\n",
      " [4. 4. 4.]]\n"
     ]
    }
   ],
   "source": [
    "## (ii) Numpy arrays support broadcastin of many common operations\n",
    "# broadcasting is the applic of operation to each element in a collection of items \n",
    "# when that operation is applied to the collection\n",
    "X = np.eye(3) #make a ndarray\n",
    "Y = np.ones([3,3])\n",
    "print(Y)\n",
    "print(X+Y) #elementwise addition\n",
    "print((2*Y)**2) #square each elment in matrix"
   ]
  },
  {
   "cell_type": "code",
   "execution_count": 5,
   "metadata": {},
   "outputs": [
    {
     "name": "stdout",
     "output_type": "stream",
     "text": [
      "0.0\n",
      "[[1. 0.]\n",
      " [0. 1.]]\n"
     ]
    },
    {
     "data": {
      "text/plain": [
       "array([0., 1., 0.])"
      ]
     },
     "execution_count": 5,
     "metadata": {},
     "output_type": "execute_result"
    }
   ],
   "source": [
    "##Access elements in an ndarray with typical indexing, rows then columns for matricies:\n",
    "X = np.eye(3)\n",
    "print(X[0,1]) #returns the element in the 0th row, 1st col\n",
    "## Can use slice indexing to access ranges of elements, though be careful with upper bound on this index\n",
    "print(X[0:2,0:2]) ##returns element in rows 0 through 1, col 0 through 2 :()\n",
    "\n",
    "X[:,1] ##returns all emeents in column 1"
   ]
  },
  {
   "cell_type": "markdown",
   "metadata": {},
   "source": [
    "[Grading goes faster if we can easily see your results. Make sure that you turn in a copy of your notebook file with all cells executed]"
   ]
  },
  {
   "cell_type": "markdown",
   "metadata": {},
   "source": [
    "## Q1: Practice with numpy\n",
    "\n",
    "In this question we will be practicing with indexing numpy arrays.  Given the numpy matrix (ndarray) numbers, defined below, your first task (part A) will be to describe in words what each code cell will output (ideally without running the code cell first...).  In part B, you will be asked to write code that returns certain elements of this numpy array."
   ]
  },
  {
   "cell_type": "code",
   "execution_count": 19,
   "metadata": {},
   "outputs": [],
   "source": [
    "numbers = np.array([[1, 2, 3, 4],\n",
    "                       [5, 6, 7, 8],\n",
    "                       [9, 10, 11, 12]])"
   ]
  },
  {
   "cell_type": "markdown",
   "metadata": {},
   "source": [
    "### A. Describe expressions.\n",
    "\n",
    "After each expression there is an empty comment. Use this comment to describe what the expression returns. The first one is given to you as an example."
   ]
  },
  {
   "cell_type": "code",
   "execution_count": null,
   "metadata": {},
   "outputs": [],
   "source": [
    "numbers[0,0]\n",
    "\n",
    "## [Example answer] This returns the first element of the first row."
   ]
  },
  {
   "cell_type": "code",
   "execution_count": null,
   "metadata": {},
   "outputs": [],
   "source": [
    "numbers[1,2:4]\n",
    "\n",
    "## Returns the 3rd and 4th element of the 2nd row"
   ]
  },
  {
   "cell_type": "code",
   "execution_count": null,
   "metadata": {},
   "outputs": [],
   "source": [
    "numbers[:,3]\n",
    "\n",
    "## returns all the elements of the last (4th) column in each row"
   ]
  },
  {
   "cell_type": "code",
   "execution_count": null,
   "metadata": {},
   "outputs": [],
   "source": [
    "numbers ** 2\n",
    "\n",
    "## squares every elment in the array"
   ]
  },
  {
   "cell_type": "code",
   "execution_count": null,
   "metadata": {},
   "outputs": [],
   "source": [
    "numbers[0,:] + numbers[1,:]\n",
    "\n",
    "## add the first 2 rows"
   ]
  },
  {
   "cell_type": "code",
   "execution_count": null,
   "metadata": {},
   "outputs": [],
   "source": [
    "numbers[:,0] * numbers[:,1]\n",
    "\n",
    "##  multiplies all the elments of the first column by the 2nd column"
   ]
  },
  {
   "cell_type": "code",
   "execution_count": 24,
   "metadata": {},
   "outputs": [
    {
     "data": {
      "text/plain": [
       "122"
      ]
     },
     "execution_count": 24,
     "metadata": {},
     "output_type": "execute_result"
    }
   ],
   "source": [
    "numbers[:,0].dot(numbers[:,1])\n",
    "\n",
    "## multiply the first 2 columns"
   ]
  },
  {
   "cell_type": "code",
   "execution_count": 23,
   "metadata": {},
   "outputs": [
    {
     "name": "stdout",
     "output_type": "stream",
     "text": [
      "122\n"
     ]
    }
   ],
   "source": [
    "print(2+30+90)"
   ]
  },
  {
   "cell_type": "code",
   "execution_count": null,
   "metadata": {},
   "outputs": [],
   "source": [
    "numbers.sum(axis=0)\n",
    "\n",
    "## sum every column"
   ]
  },
  {
   "cell_type": "code",
   "execution_count": null,
   "metadata": {},
   "outputs": [],
   "source": [
    "numbers.sum(axis=1)\n",
    "\n",
    "## sum every row"
   ]
  },
  {
   "cell_type": "markdown",
   "metadata": {},
   "source": [
    "### B. Write expressions\n",
    "\n",
    "In this section each block will contain a comment describing a result, you will write code to generate that result."
   ]
  },
  {
   "cell_type": "code",
   "execution_count": null,
   "metadata": {},
   "outputs": [],
   "source": [
    "numbers = numpy.array([[1, 2, 3, 4],\n",
    "                       [5, 6, 7, 8],\n",
    "                       [9, 10, 11, 12]])"
   ]
  },
  {
   "cell_type": "code",
   "execution_count": null,
   "metadata": {},
   "outputs": [],
   "source": [
    "## return 10\n",
    "\n",
    "print(numbers[2:,1])\n",
    "sum(numbers[0,:])"
   ]
  },
  {
   "cell_type": "code",
   "execution_count": 40,
   "metadata": {},
   "outputs": [
    {
     "data": {
      "text/plain": [
       "array([5, 9])"
      ]
     },
     "execution_count": 40,
     "metadata": {},
     "output_type": "execute_result"
    }
   ],
   "source": [
    "## return array([5, 9])\n",
    "\n",
    "numbers[1:,0]"
   ]
  },
  {
   "cell_type": "code",
   "execution_count": null,
   "metadata": {},
   "outputs": [],
   "source": [
    "## return array([[7, 8], [11, 12]])\n",
    "\n",
    "numbers[1:3,2:4]"
   ]
  },
  {
   "cell_type": "code",
   "execution_count": 14,
   "metadata": {},
   "outputs": [
    {
     "data": {
      "text/plain": [
       "array([[14, 16],\n",
       "       [22, 24]])"
      ]
     },
     "execution_count": 14,
     "metadata": {},
     "output_type": "execute_result"
    }
   ],
   "source": [
    "## return array([[14, 16], [22, 24]])\n",
    "\n",
    "numbers[1:3,2:4]*2"
   ]
  },
  {
   "cell_type": "code",
   "execution_count": 148,
   "metadata": {},
   "outputs": [
    {
     "data": {
      "text/plain": [
       "(array([0.        , 0.69314718]), array([1.60943791, 1.79175947]))"
      ]
     },
     "execution_count": 148,
     "metadata": {},
     "output_type": "execute_result"
    }
   ],
   "source": [
    "## return array([[0., 0.69314718], [1.60943791, 1.79175947]])\n",
    "## (hint: what is log(2)?)\n",
    "\n",
    "np.log(numbers[0,:2]),np.log(numbers[1,:2])"
   ]
  },
  {
   "cell_type": "code",
   "execution_count": 150,
   "metadata": {},
   "outputs": [
    {
     "data": {
      "text/plain": [
       "122"
      ]
     },
     "execution_count": 150,
     "metadata": {},
     "output_type": "execute_result"
    }
   ],
   "source": [
    "## return the sum of the squares of the first row\n",
    "## (hint: use dot())\n",
    "# print(1 + 4 + 9 + 16)\n",
    "# numbers[0,:1]\n",
    "# sum()\n",
    "numbers[:,0].dot(numbers[:,1])"
   ]
  },
  {
   "cell_type": "code",
   "execution_count": 28,
   "metadata": {},
   "outputs": [
    {
     "data": {
      "text/plain": [
       "array([225, 324, 441, 576], dtype=int32)"
      ]
     },
     "execution_count": 28,
     "metadata": {},
     "output_type": "execute_result"
    }
   ],
   "source": [
    "## return the square of the sums of the columns\n",
    "numbers.sum(axis=0)**2"
   ]
  },
  {
   "cell_type": "code",
   "execution_count": 29,
   "metadata": {},
   "outputs": [
    {
     "data": {
      "text/plain": [
       "array([5., 6., 7., 8.])"
      ]
     },
     "execution_count": 29,
     "metadata": {},
     "output_type": "execute_result"
    }
   ],
   "source": [
    "## return the mean of the columns (numpy.mean() works like numpy.sum())\n",
    "numbers.mean(axis=0)"
   ]
  },
  {
   "cell_type": "markdown",
   "metadata": {},
   "source": [
    "## Q2: Covariance, correlation, regression\n",
    "\n",
    "A. Write a function called `generate_linear` that takes four arguments: a sample size ($n$), a slope ($m$), an intercept ($b$), and an error scale ($s$). It should return a numpy array with $n$ rows and 2 columns. The first column ($X$) should be $n$ values from a normal distribution with mean 0 and standard deviation 1. The second column ($Y$) should be $mx + b$ plus $s$ times a second array of $n$ values from a standard normal distribution (mean 0, std 1). (See notes for an example)\n",
    "\n",
    "Test this by generating a dataset with $n=100, m=-0.5, b=1.0, s=0.2$. Plot this dataset using `pyplot.scatter()`."
   ]
  },
  {
   "cell_type": "code",
   "execution_count": 48,
   "metadata": {},
   "outputs": [],
   "source": [
    "from matplotlib import pyplot"
   ]
  },
  {
   "cell_type": "code",
   "execution_count": 130,
   "metadata": {},
   "outputs": [],
   "source": [
    "## Answer here\n",
    "\n",
    "def generate_linear(n,m,b,s):\n",
    "    x = np.random.normal(0,1,size=n) \n",
    "    error = np.random.normal(0, 1, size=n)\n",
    "    y = x * m + b + (error*s)\n",
    "    a = np.column_stack([x,y])\n",
    "    #print(a.shape)\n",
    "    return a\n"
   ]
  },
  {
   "cell_type": "code",
   "execution_count": 131,
   "metadata": {},
   "outputs": [
    {
     "data": {
      "text/plain": [
       "[]"
      ]
     },
     "execution_count": 131,
     "metadata": {},
     "output_type": "execute_result"
    },
    {
     "data": {
      "image/png": "[encoded data removed]",
      "text/plain": [
       "<Figure size 432x288 with 1 Axes>"
      ]
     },
     "metadata": {},
     "output_type": "display_data"
    }
   ],
   "source": [
    "from matplotlib import pyplot\n",
    "n=100\n",
    "m=-0.5\n",
    "b=1.0\n",
    "s=0.2\n",
    "a = generate_linear(n,m,b,s)\n",
    "pyplot.scatter(a[:,0],a[:,1])\n",
    "pyplot.plot()\n",
    "#print(a)"
   ]
  },
  {
   "cell_type": "markdown",
   "metadata": {},
   "source": [
    "B. Write a function called `regression` that takes a two-column (ie $X, Y$) numpy array and returns a tuple containing the covariance of the two variables, the variance of $X$, and the estimated slope parameter of a linear regression $\\hat{m}$ ($cov(X,Y)/var(X)$). You may use code from class notes. Test this function by displaying the result for the dataset you created in part A."
   ]
  },
  {
   "cell_type": "code",
   "execution_count": 132,
   "metadata": {},
   "outputs": [],
   "source": [
    "## Answer here\n",
    "\n",
    "def regression(a):\n",
    "    cov_matrix = np.cov(a[:,0],a[:,1])\n",
    "    cov = cov_matrix[1,0]\n",
    "    varX= cov_matrix[0,0]\n",
    "    m = cov / varX\n",
    "    tup = (cov, varX, m)\n",
    "    return tup\n"
   ]
  },
  {
   "cell_type": "code",
   "execution_count": 133,
   "metadata": {},
   "outputs": [
    {
     "data": {
      "text/plain": [
       "(-0.46901680012099184, 0.953193371214833, -0.49204790369370255)"
      ]
     },
     "execution_count": 133,
     "metadata": {},
     "output_type": "execute_result"
    }
   ],
   "source": [
    "regression(a)"
   ]
  },
  {
   "cell_type": "markdown",
   "metadata": {},
   "source": [
    "C. Write code to generate five datasets for each combination of the following parameter values: $m \\in \\{1, 0.25, 0.05\\}, n \\in \\{10, 100, 1000\\}, s \\in \\{0.01, 0.1, 1.0\\}$. (Use $b$ = 0.) For each dataset print the parameter settings using a formatted string and the estimated regression slope $\\hat{m}$. Do not show floating point numbers with more than four decimal places."
   ]
  },
  {
   "cell_type": "code",
   "execution_count": 151,
   "metadata": {},
   "outputs": [
    {
     "name": "stdout",
     "output_type": "stream",
     "text": [
      "m:  1 n:  10 s:  0.01 b: 0 m̂:  0.9924 Diff:  0.0076\n",
      "m:  1 n:  10 s:  0.01 b: 0 m̂:  0.9953 Diff:  0.0047\n",
      "m:  1 n:  10 s:  0.01 b: 0 m̂:  0.9948 Diff:  0.0052\n",
      "m:  1 n:  10 s:  0.01 b: 0 m̂:  0.9987 Diff:  0.0013\n",
      "m:  1 n:  10 s:  0.01 b: 0 m̂:  0.9979 Diff:  0.0021\n",
      "m:  1 n:  10 s:  0.1 b: 0 m̂:  1.0224 Diff:  0.0224\n",
      "m:  1 n:  10 s:  0.1 b: 0 m̂:  1.1031 Diff:  0.1031\n",
      "m:  1 n:  10 s:  0.1 b: 0 m̂:  0.9901 Diff:  0.0099\n",
      "m:  1 n:  10 s:  0.1 b: 0 m̂:  0.9970 Diff:  0.0030\n",
      "m:  1 n:  10 s:  0.1 b: 0 m̂:  1.0018 Diff:  0.0018\n",
      "m:  1 n:  10 s:  1.0 b: 0 m̂:  0.9398 Diff:  0.0602\n",
      "m:  1 n:  10 s:  1.0 b: 0 m̂:  0.4930 Diff:  0.5070\n",
      "m:  1 n:  10 s:  1.0 b: 0 m̂:  1.4500 Diff:  0.4500\n",
      "m:  1 n:  10 s:  1.0 b: 0 m̂:  1.4537 Diff:  0.4537\n",
      "m:  1 n:  10 s:  1.0 b: 0 m̂:  1.4068 Diff:  0.4068\n",
      "m:  1 n:  100 s:  0.01 b: 0 m̂:  1.0003 Diff:  0.0003\n",
      "m:  1 n:  100 s:  0.01 b: 0 m̂:  1.0011 Diff:  0.0011\n",
      "m:  1 n:  100 s:  0.01 b: 0 m̂:  1.0021 Diff:  0.0021\n",
      "m:  1 n:  100 s:  0.01 b: 0 m̂:  0.9996 Diff:  0.0004\n",
      "m:  1 n:  100 s:  0.01 b: 0 m̂:  0.9999 Diff:  0.0001\n",
      "m:  1 n:  100 s:  0.1 b: 0 m̂:  1.0016 Diff:  0.0016\n",
      "m:  1 n:  100 s:  0.1 b: 0 m̂:  0.9927 Diff:  0.0073\n",
      "m:  1 n:  100 s:  0.1 b: 0 m̂:  0.9952 Diff:  0.0048\n",
      "m:  1 n:  100 s:  0.1 b: 0 m̂:  0.9990 Diff:  0.0010\n",
      "m:  1 n:  100 s:  0.1 b: 0 m̂:  0.9861 Diff:  0.0139\n",
      "m:  1 n:  100 s:  1.0 b: 0 m̂:  0.9282 Diff:  0.0718\n",
      "m:  1 n:  100 s:  1.0 b: 0 m̂:  1.0973 Diff:  0.0973\n",
      "m:  1 n:  100 s:  1.0 b: 0 m̂:  1.1098 Diff:  0.1098\n",
      "m:  1 n:  100 s:  1.0 b: 0 m̂:  0.8882 Diff:  0.1118\n",
      "m:  1 n:  100 s:  1.0 b: 0 m̂:  1.0418 Diff:  0.0418\n",
      "m:  1 n:  1000 s:  0.01 b: 0 m̂:  0.9997 Diff:  0.0003\n",
      "m:  1 n:  1000 s:  0.01 b: 0 m̂:  1.0002 Diff:  0.0002\n",
      "m:  1 n:  1000 s:  0.01 b: 0 m̂:  1.0001 Diff:  0.0001\n",
      "m:  1 n:  1000 s:  0.01 b: 0 m̂:  1.0002 Diff:  0.0002\n",
      "m:  1 n:  1000 s:  0.01 b: 0 m̂:  1.0000 Diff:  0.0000\n",
      "m:  1 n:  1000 s:  0.1 b: 0 m̂:  0.9997 Diff:  0.0003\n",
      "m:  1 n:  1000 s:  0.1 b: 0 m̂:  1.0061 Diff:  0.0061\n",
      "m:  1 n:  1000 s:  0.1 b: 0 m̂:  1.0017 Diff:  0.0017\n",
      "m:  1 n:  1000 s:  0.1 b: 0 m̂:  0.9969 Diff:  0.0031\n",
      "m:  1 n:  1000 s:  0.1 b: 0 m̂:  0.9960 Diff:  0.0040\n",
      "m:  1 n:  1000 s:  1.0 b: 0 m̂:  0.9787 Diff:  0.0213\n",
      "m:  1 n:  1000 s:  1.0 b: 0 m̂:  1.0090 Diff:  0.0090\n",
      "m:  1 n:  1000 s:  1.0 b: 0 m̂:  1.0353 Diff:  0.0353\n",
      "m:  1 n:  1000 s:  1.0 b: 0 m̂:  0.9826 Diff:  0.0174\n",
      "m:  1 n:  1000 s:  1.0 b: 0 m̂:  1.0188 Diff:  0.0188\n",
      "m:  0.25 n:  10 s:  0.01 b: 0 m̂:  0.2491 Diff:  0.0009\n",
      "m:  0.25 n:  10 s:  0.01 b: 0 m̂:  0.2478 Diff:  0.0022\n",
      "m:  0.25 n:  10 s:  0.01 b: 0 m̂:  0.2506 Diff:  0.0006\n",
      "m:  0.25 n:  10 s:  0.01 b: 0 m̂:  0.2465 Diff:  0.0035\n",
      "m:  0.25 n:  10 s:  0.01 b: 0 m̂:  0.2502 Diff:  0.0002\n",
      "m:  0.25 n:  10 s:  0.1 b: 0 m̂:  0.2682 Diff:  0.0182\n",
      "m:  0.25 n:  10 s:  0.1 b: 0 m̂:  0.2689 Diff:  0.0189\n",
      "m:  0.25 n:  10 s:  0.1 b: 0 m̂:  0.2540 Diff:  0.0040\n",
      "m:  0.25 n:  10 s:  0.1 b: 0 m̂:  0.2448 Diff:  0.0052\n",
      "m:  0.25 n:  10 s:  0.1 b: 0 m̂:  0.2170 Diff:  0.0330\n",
      "m:  0.25 n:  10 s:  1.0 b: 0 m̂:  0.2113 Diff:  0.0387\n",
      "m:  0.25 n:  10 s:  1.0 b: 0 m̂:  0.2942 Diff:  0.0442\n",
      "m:  0.25 n:  10 s:  1.0 b: 0 m̂:  -0.0746 Diff:  0.3246\n",
      "m:  0.25 n:  10 s:  1.0 b: 0 m̂:  -0.8214 Diff:  1.0714\n",
      "m:  0.25 n:  10 s:  1.0 b: 0 m̂:  0.1872 Diff:  0.0628\n",
      "m:  0.25 n:  100 s:  0.01 b: 0 m̂:  0.2500 Diff:  0.0000\n",
      "m:  0.25 n:  100 s:  0.01 b: 0 m̂:  0.2508 Diff:  0.0008\n",
      "m:  0.25 n:  100 s:  0.01 b: 0 m̂:  0.2499 Diff:  0.0001\n",
      "m:  0.25 n:  100 s:  0.01 b: 0 m̂:  0.2505 Diff:  0.0005\n",
      "m:  0.25 n:  100 s:  0.01 b: 0 m̂:  0.2502 Diff:  0.0002\n",
      "m:  0.25 n:  100 s:  0.1 b: 0 m̂:  0.2650 Diff:  0.0150\n",
      "m:  0.25 n:  100 s:  0.1 b: 0 m̂:  0.2495 Diff:  0.0005\n",
      "m:  0.25 n:  100 s:  0.1 b: 0 m̂:  0.2518 Diff:  0.0018\n",
      "m:  0.25 n:  100 s:  0.1 b: 0 m̂:  0.2371 Diff:  0.0129\n",
      "m:  0.25 n:  100 s:  0.1 b: 0 m̂:  0.2371 Diff:  0.0129\n",
      "m:  0.25 n:  100 s:  1.0 b: 0 m̂:  0.1596 Diff:  0.0904\n",
      "m:  0.25 n:  100 s:  1.0 b: 0 m̂:  0.1680 Diff:  0.0820\n",
      "m:  0.25 n:  100 s:  1.0 b: 0 m̂:  0.2258 Diff:  0.0242\n",
      "m:  0.25 n:  100 s:  1.0 b: 0 m̂:  0.3654 Diff:  0.1154\n",
      "m:  0.25 n:  100 s:  1.0 b: 0 m̂:  0.2478 Diff:  0.0022\n",
      "m:  0.25 n:  1000 s:  0.01 b: 0 m̂:  0.2505 Diff:  0.0005\n",
      "m:  0.25 n:  1000 s:  0.01 b: 0 m̂:  0.2500 Diff:  0.0000\n",
      "m:  0.25 n:  1000 s:  0.01 b: 0 m̂:  0.2496 Diff:  0.0004\n",
      "m:  0.25 n:  1000 s:  0.01 b: 0 m̂:  0.2502 Diff:  0.0002\n",
      "m:  0.25 n:  1000 s:  0.01 b: 0 m̂:  0.2501 Diff:  0.0001\n",
      "m:  0.25 n:  1000 s:  0.1 b: 0 m̂:  0.2498 Diff:  0.0002\n",
      "m:  0.25 n:  1000 s:  0.1 b: 0 m̂:  0.2498 Diff:  0.0002\n",
      "m:  0.25 n:  1000 s:  0.1 b: 0 m̂:  0.2497 Diff:  0.0003\n",
      "m:  0.25 n:  1000 s:  0.1 b: 0 m̂:  0.2536 Diff:  0.0036\n",
      "m:  0.25 n:  1000 s:  0.1 b: 0 m̂:  0.2504 Diff:  0.0004\n",
      "m:  0.25 n:  1000 s:  1.0 b: 0 m̂:  0.3074 Diff:  0.0574\n",
      "m:  0.25 n:  1000 s:  1.0 b: 0 m̂:  0.2436 Diff:  0.0064\n",
      "m:  0.25 n:  1000 s:  1.0 b: 0 m̂:  0.2287 Diff:  0.0213\n",
      "m:  0.25 n:  1000 s:  1.0 b: 0 m̂:  0.2594 Diff:  0.0094\n",
      "m:  0.25 n:  1000 s:  1.0 b: 0 m̂:  0.2865 Diff:  0.0365\n",
      "m:  0.05 n:  10 s:  0.01 b: 0 m̂:  0.0510 Diff:  0.0010\n",
      "m:  0.05 n:  10 s:  0.01 b: 0 m̂:  0.0478 Diff:  0.0022\n",
      "m:  0.05 n:  10 s:  0.01 b: 0 m̂:  0.0493 Diff:  0.0007\n",
      "m:  0.05 n:  10 s:  0.01 b: 0 m̂:  0.0499 Diff:  0.0001\n",
      "m:  0.05 n:  10 s:  0.01 b: 0 m̂:  0.0415 Diff:  0.0085\n",
      "m:  0.05 n:  10 s:  0.1 b: 0 m̂:  0.1343 Diff:  0.0843\n",
      "m:  0.05 n:  10 s:  0.1 b: 0 m̂:  0.0377 Diff:  0.0123\n",
      "m:  0.05 n:  10 s:  0.1 b: 0 m̂:  -0.0090 Diff:  0.0590\n",
      "m:  0.05 n:  10 s:  0.1 b: 0 m̂:  0.0224 Diff:  0.0276\n",
      "m:  0.05 n:  10 s:  0.1 b: 0 m̂:  0.0400 Diff:  0.0100\n",
      "m:  0.05 n:  10 s:  1.0 b: 0 m̂:  0.0194 Diff:  0.0306\n",
      "m:  0.05 n:  10 s:  1.0 b: 0 m̂:  -0.0859 Diff:  0.1359\n",
      "m:  0.05 n:  10 s:  1.0 b: 0 m̂:  0.0445 Diff:  0.0055\n",
      "m:  0.05 n:  10 s:  1.0 b: 0 m̂:  0.1080 Diff:  0.0580\n",
      "m:  0.05 n:  10 s:  1.0 b: 0 m̂:  0.0162 Diff:  0.0338\n",
      "m:  0.05 n:  100 s:  0.01 b: 0 m̂:  0.0473 Diff:  0.0027\n",
      "m:  0.05 n:  100 s:  0.01 b: 0 m̂:  0.0492 Diff:  0.0008\n",
      "m:  0.05 n:  100 s:  0.01 b: 0 m̂:  0.0486 Diff:  0.0014\n",
      "m:  0.05 n:  100 s:  0.01 b: 0 m̂:  0.0487 Diff:  0.0013\n",
      "m:  0.05 n:  100 s:  0.01 b: 0 m̂:  0.0486 Diff:  0.0014\n",
      "m:  0.05 n:  100 s:  0.1 b: 0 m̂:  0.0479 Diff:  0.0021\n",
      "m:  0.05 n:  100 s:  0.1 b: 0 m̂:  0.0539 Diff:  0.0039\n",
      "m:  0.05 n:  100 s:  0.1 b: 0 m̂:  0.0468 Diff:  0.0032\n",
      "m:  0.05 n:  100 s:  0.1 b: 0 m̂:  0.0626 Diff:  0.0126\n",
      "m:  0.05 n:  100 s:  0.1 b: 0 m̂:  0.0533 Diff:  0.0033\n",
      "m:  0.05 n:  100 s:  1.0 b: 0 m̂:  -0.1087 Diff:  0.1587\n",
      "m:  0.05 n:  100 s:  1.0 b: 0 m̂:  0.1946 Diff:  0.1446\n",
      "m:  0.05 n:  100 s:  1.0 b: 0 m̂:  0.1748 Diff:  0.1248\n",
      "m:  0.05 n:  100 s:  1.0 b: 0 m̂:  0.0898 Diff:  0.0398\n",
      "m:  0.05 n:  100 s:  1.0 b: 0 m̂:  0.0698 Diff:  0.0198\n",
      "m:  0.05 n:  1000 s:  0.01 b: 0 m̂:  0.0494 Diff:  0.0006\n",
      "m:  0.05 n:  1000 s:  0.01 b: 0 m̂:  0.0498 Diff:  0.0002\n",
      "m:  0.05 n:  1000 s:  0.01 b: 0 m̂:  0.0500 Diff:  0.0000\n",
      "m:  0.05 n:  1000 s:  0.01 b: 0 m̂:  0.0500 Diff:  0.0000\n",
      "m:  0.05 n:  1000 s:  0.01 b: 0 m̂:  0.0498 Diff:  0.0002\n",
      "m:  0.05 n:  1000 s:  0.1 b: 0 m̂:  0.0512 Diff:  0.0012\n",
      "m:  0.05 n:  1000 s:  0.1 b: 0 m̂:  0.0507 Diff:  0.0007\n",
      "m:  0.05 n:  1000 s:  0.1 b: 0 m̂:  0.0491 Diff:  0.0009\n",
      "m:  0.05 n:  1000 s:  0.1 b: 0 m̂:  0.0471 Diff:  0.0029\n",
      "m:  0.05 n:  1000 s:  0.1 b: 0 m̂:  0.0524 Diff:  0.0024\n",
      "m:  0.05 n:  1000 s:  1.0 b: 0 m̂:  0.0431 Diff:  0.0069\n",
      "m:  0.05 n:  1000 s:  1.0 b: 0 m̂:  0.0553 Diff:  0.0053\n",
      "m:  0.05 n:  1000 s:  1.0 b: 0 m̂:  0.0763 Diff:  0.0263\n",
      "m:  0.05 n:  1000 s:  1.0 b: 0 m̂:  -0.0310 Diff:  0.0810\n",
      "m:  0.05 n:  1000 s:  1.0 b: 0 m̂:  0.0106 Diff:  0.0394\n"
     ]
    }
   ],
   "source": [
    "## Answer here\n",
    "b = 0\n",
    "for m in [1,0.25,0.05]:\n",
    "    for n in [10,100,1000]:\n",
    "        for s in [0.01,0.1,1.0]:\n",
    "            for i in range(5):\n",
    "                a = generate_linear(n,m,b,s)\n",
    "                r= regression(a)\n",
    "                print ('m: ',m,'n: ',n,'s: ',s, 'b: 0', 'm̂: ', \"%.4f\" % r[2], \"Diff: \", \"%.4f\" % abs(r[2]-m))"
   ]
  },
  {
   "cell_type": "markdown",
   "metadata": {},
   "source": [
    "D. Are you able to estimate the slope parameter reliably in the presence of noisy data? How is the quality of your estimate affected by sample size $n$, \"effect size\" (ie $m$), and degree of noise (ie $s$)?"
   ]
  },
  {
   "cell_type": "markdown",
   "metadata": {},
   "source": [
    "Answer here:\n",
    "\n",
    "The greater the sample size the more data there exists and thus the more reliable our data is because we can reduce the influence of outliers (data sets with higher erros). The greater the degree of noise the less reliable our data becomes because there is a greater chance for a data point to be an outlier (have a higher error deviation ) The effect size (m) or slope in this case doesn't neccessarily impact the reliability of the values."
   ]
  },
  {
   "cell_type": "markdown",
   "metadata": {},
   "source": [
    "## Q3: Spurious correlations\n",
    "\n",
    "If you have enough data sets, you can find connections between surprising variables through random chance. The website [Spurious Correlations](http://www.tylervigen.com/spurious-correlations) by Tyler Vigen contains many of these. Here is one such comparison, the average number of pounds of cheese consumed per year per person and the number of people who died after getting tangled in the sheets of their bed.\n",
    "\n",
    "Write code to calculate the correlation between these variables, and print the result."
   ]
  },
  {
   "cell_type": "code",
   "execution_count": 72,
   "metadata": {},
   "outputs": [],
   "source": [
    "bedsheet_tanglings = np.array([327, 456, 509, 497, 506, 573, 661, 741, 809, 717])\n",
    "cheese_per_capita = np.array([29.8, 30.1, 30.5, 30.6, 31.3, 31.7, 32.6, 33.1, 32.7, 32.8])"
   ]
  },
  {
   "cell_type": "code",
   "execution_count": 73,
   "metadata": {},
   "outputs": [],
   "source": [
    "## Calculate and print the Pearson correlation coefficient between these two variables here"
   ]
  },
  {
   "cell_type": "code",
   "execution_count": 143,
   "metadata": {},
   "outputs": [
    {
     "name": "stdout",
     "output_type": "stream",
     "text": [
      "Pearson Correlation Coefficient:  0.9448891469341408\n"
     ]
    }
   ],
   "source": [
    "a = np.corrcoef(bedsheet_tanglings,cheese_per_capita)\n",
    "print(\"Pearson Correlation Coefficient: \", a[0,1])"
   ]
  },
  {
   "cell_type": "markdown",
   "metadata": {},
   "source": [
    "Are you convinced that cheese consumption is predictive of bedsheet tangling deaths? Why or why not?"
   ]
  },
  {
   "cell_type": "markdown",
   "metadata": {},
   "source": [
    "Answer here: Since the value is very close to one there does appear to be a correlation between both of these variables (bedsheet tanglings and cheese per capita). But logically speaking this is most likely just by chance as correlation doesn't neccessarily mean causation. The site this data comes from appears to gather hundreds of sets of data and see if there ever is a correlation with a relatively small sample size. Ofcoarse of the billions of unrelated variables that exist, there will often be a strong correlation between 2 unrelated variables just by chance and not by causation\n"
   ]
  },
  {
   "cell_type": "code",
   "execution_count": null,
   "metadata": {},
   "outputs": [],
   "source": []
  }
 ],
 "metadata": {
  "kernelspec": {
   "display_name": "Python 3",
   "language": "python",
   "name": "python3"
  },
  "language_info": {
   "codemirror_mode": {
    "name": "ipython",
    "version": 3
   },
   "file_extension": ".py",
   "mimetype": "text/x-python",
   "name": "python",
   "nbconvert_exporter": "python",
   "pygments_lexer": "ipython3",
   "version": "3.6.5"
  }
 },
 "nbformat": 4,
 "nbformat_minor": 2
}
