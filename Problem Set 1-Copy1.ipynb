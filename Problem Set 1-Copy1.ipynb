{
 "cells": [
  {
   "cell_type": "markdown",
   "metadata": {},
   "source": [
    "# Problem set 1\n",
    "\n",
    "All work should be done in this notebook. Upload the `.ipynb` file to CMS."
   ]
  },
  {
   "cell_type": "markdown",
   "metadata": {},
   "source": [
    "## Part 1: Birthday collisions \n",
    "\n",
    "We will work on this problem together in the Friday session.\n",
    "\n",
    "We often use probabilistic models to decide whether events that seem surprising are actually unlikely. The birthday problem is a classic example of such a phenomenon:  What is the probability that at least two people in a group of size `n` have the same birthday? Assuming that each year has 365 days (no leap years) and that each day is equally likely as a birthdate, __write a function which returns this probability as a function of the group size `n`__.\n",
    "\n",
    "As a hint, notice that enumerating all of the possible ways in which a group of individuals might share at least one birthday is quite challenging.  There could be one overlapping birthday, two overlapping birthdays, and so on. Instead, we'll calculate the probability that *no one* shares a birthday, and then subtract that value from 1.0."
   ]
  },
  {
   "cell_type": "code",
   "execution_count": null,
   "metadata": {},
   "outputs": [],
   "source": [
    "##Brainstorming\n",
    " n_distinct = 365 - (n + 1)\n",
    " n_birthday = n * 365\n",
    " no_one_shares = n_distinct / n_birthday\n",
    "\n",
    " return 1 - no_one_shares"
   ]
  },
  {
   "cell_type": "code",
   "execution_count": 3,
   "metadata": {},
   "outputs": [],
   "source": [
    "##answer here\n",
    "def compute_birthday_prob(n):\n",
    " ## return the probability that there exists atleast 2 people in a class of size n who share the same birthday   \n",
    " p = 1 ## the probability that no 2 individuals in a class share a birthday\n",
    " for number_of_free_birthdays in range(365-n+1,366):\n",
    "    p = p * number_of_free_birthdays\n",
    " return 1 - p / (365 ** n)\n"
   ]
  },
  {
   "cell_type": "markdown",
   "metadata": {},
   "source": [
    "Using your function, print the probability that at least 2 people in a class of size $n=23$ share a birthday."
   ]
  },
  {
   "cell_type": "code",
   "execution_count": 4,
   "metadata": {},
   "outputs": [
    {
     "name": "stdout",
     "output_type": "stream",
     "text": [
      "0.5072972343239854\n"
     ]
    }
   ],
   "source": [
    "##answer here\n",
    "n = 23\n",
    "print(compute_birthday_prob(n))"
   ]
  },
  {
   "cell_type": "markdown",
   "metadata": {},
   "source": [
    "Now, let's write a second program to verify our theoretical results via random sampling.  Write a function which simulates the birthday problem for a given `num_trials` number of trials for a group of size `n` (*HINT: np.random.randint and Counters*)."
   ]
  },
  {
   "cell_type": "code",
   "execution_count": null,
   "metadata": {},
   "outputs": [],
   "source": [
    "##Brainstorming\n",
    "n = \n",
    "def simulator(n):\n",
    "    for student in range(n):\n",
    "        student = np.random.randint \n",
    "\n",
    "\n",
    "np.random.randint "
   ]
  },
  {
   "cell_type": "code",
   "execution_count": 9,
   "metadata": {},
   "outputs": [],
   "source": [
    "##Hint: Counters have built in method.most_common() that you should use\n",
    "###answer here\n",
    "from numpy.random import randint\n",
    "from collections import Counter\n",
    "def generate_random_brithday_sample(n):\n",
    "    ##assign random birthdays to n people\n",
    "    birthdays = randint(1,366,n)\n",
    "    ## dictionary with key values keys = brithday values = # of ppl w/ birthday\n",
    "    birthday_counts = Counter(birthdays) \n",
    "    birthday_counts = birthday_counts.most_common()\n",
    "\n",
    "    if birthday_counts[0][1] > 1:\n",
    "        ##duplicate birthday\n",
    "        return 1\n",
    "    else: \n",
    "        ##No duplicates\n",
    "        return 0\n"
   ]
  },
  {
   "cell_type": "code",
   "execution_count": 10,
   "metadata": {},
   "outputs": [
    {
     "name": "stdout",
     "output_type": "stream",
     "text": [
      "0\n"
     ]
    }
   ],
   "source": [
    "print(generate_random_brithday_sample(50))"
   ]
  },
  {
   "cell_type": "markdown",
   "metadata": {},
   "source": [
    "Using the function you have just written, empirically estimate the probability that at least two individuals in a group of size `n` = 23 share a birthday using `num_trials` = 10000 samples"
   ]
  },
  {
   "cell_type": "code",
   "execution_count": 14,
   "metadata": {},
   "outputs": [],
   "source": [
    "##answer here\n",
    "def estimate_birthday_probability(num_trials,n):\n",
    "    ## return an estiamte for the prob that there is atleast 1 overlapping bday in a group of size n\n",
    "    p = 0 #initialization of probability estimate\n",
    "    for _ in range(num_trials):\n",
    "        p = p + generate_random_brithday_sample(n)\n",
    "    return p / num_trials"
   ]
  },
  {
   "cell_type": "code",
   "execution_count": 19,
   "metadata": {},
   "outputs": [
    {
     "name": "stdout",
     "output_type": "stream",
     "text": [
      "0.5025\n"
     ]
    }
   ],
   "source": [
    "print(estimate_birthday_probability(10000,23))"
   ]
  },
  {
   "cell_type": "markdown",
   "metadata": {},
   "source": [
    "## Part 2: Diagnostic tests and Bayes rule ( pts)\n",
    "\n",
    "Let's return to the case of finding lead pipes discussed in class. Fully excavating pipes leading from the street to a house is expensive, so contractors in Flint instead used a simpler method that exposed only a part of the pipes.  Despite being cheaper than a full excavaction, one issue with this method is that it risks missing parts of the pipe containing lead. Your job is to decide whether this is a good test.\n",
    "\n",
    "To begin, symbolically write the probabilities $P(lead|positive)$ and $P(lead|negative)$ in terms of the prior probability that a pipe contains led and the probabilities of test outcome conditional on pipe contamination using Bayes rule. (This is a bit messy to do in a notebook with your current knowledge, so write it on paper first then try your best to transcribe it by typing)."
   ]
  },
  {
   "cell_type": "markdown",
   "metadata": {},
   "source": [
    "Now that we've done that, write a function that takes three arguments:\n",
    "- The prior probability of lead $P(lead)$\n",
    "- The probability of a positive test if lead is present $P(positive|lead)$\n",
    "- The probability of a positive test if lead is *not* present $P(positive|not lead)$. \n",
    "\n",
    "It should return a numpy array containing $P(lead|positive)$ and $P(lead|negative)$.\n",
    "\n",
    "Think about your variable names, this is one of (many) cases that we'll encounter where quantities might have similar names and we need to be careful to not confuse them."
   ]
  },
  {
   "cell_type": "markdown",
   "metadata": {},
   "source": [
    "Now that we've done that, write a function that takes three arguments:\n",
    "- The prior probability of lead $P(lead)$\n",
    "- The probability of a positive test if lead is present $P(positive|lead)$\n",
    "- The probability of a positive test if lead is *not* present $P(positive|not lead)$. \n",
    "\n",
    "It should return a numpy array containing $P(lead|positive)$ and $P(lead|negative)$.\n",
    "\n",
    "Think about your variable names, this is one of (many) cases that we'll encounter where quantities might have similar names and we need to be careful to not confuse them."
   ]
  },
  {
   "cell_type": "code",
   "execution_count": 15,
   "metadata": {},
   "outputs": [],
   "source": [
    "##answer here\n",
    "def compute_prob(p_lead, p_positivegivenlead,p_positivegivennNOlead):\n",
    " p_NOlead = 1 - p_lead\n",
    " positive = p_positivegivenlead*p_lead + p_positivegivenNOlead*p_NOlead\n",
    " leadgivenpos = (p_positivegivenlead*p_lead) / (positive)\n",
    "\n",
    " p_negativegivenlead = 1 - p_positivegivenlead\n",
    " p_negativegivenNOlead = 1 - p_positivegivenNOlead\n",
    " negative = p_negativegivenlead * p_lead + p_negativegivenNOlead * p_NOlead\n",
    " p_leadgivenneg = p_negativegivenlead*p_lead / negative\n",
    "\n",
    " array = [leadgivenpos,p_leadgivenneg]\n",
    " return array"
   ]
  },
  {
   "cell_type": "code",
   "execution_count": 16,
   "metadata": {
    "scrolled": true
   },
   "outputs": [
    {
     "name": "stdout",
     "output_type": "stream",
     "text": [
      "[0.9807692307692307, 0.3863636363636362]\n"
     ]
    }
   ],
   "source": [
    "p_lead = 0.85\n",
    "p_positivegivenlead = 0.9\n",
    "p_positivegivenNOlead = 0.1\n",
    "\n",
    "print(compute_prob(p_lead, p_positivegivenlead,p_positivegivenNOlead))\n"
   ]
  },
  {
   "cell_type": "markdown",
   "metadata": {},
   "source": [
    "Suppose you live in a neighborhood of Flint which has older homes built with low-quality materials near the city center, and suppose that the prior probability of such a home having lead pipes is 0.85. Assume further that the test is 90% accurate: if there is lead the test will be positive with probability 0.9, and if there is no lead the test will be positive with probability 0.1.\n",
    "\n",
    "What is the output of your function for these probabilities?"
   ]
  },
  {
   "cell_type": "markdown",
   "metadata": {},
   "source": [
    "##answer here : [0.9807692307692307, 0.019230769230769273]"
   ]
  },
  {
   "cell_type": "markdown",
   "metadata": {},
   "source": [
    "You just received notification that according to the 90% accurate test you do not have lead. Do you let your children drink your tapwater? Why or why not?"
   ]
  },
  {
   "cell_type": "markdown",
   "metadata": {},
   "source": [
    "Answer here: No, I wouldn't let them drink the water if there is still a 10% chance that the test is wrong and it does contain lead."
   ]
  },
  {
   "cell_type": "markdown",
   "metadata": {},
   "source": [
    "### Part 3: Choose your weapon ( pts)\n",
    "\n",
    "In the game Dungeons & Dragons we simulate combat by rolling dice. These come in multiple shapes, from four-sided (d4) to 20-sided (d20). Each type of weapon has a number and shape of dice to determine the damage inflicted by a successful blow. Consider two weapons: a 1d8 (roll one eight-sided die) and a 2d4 (roll two four-sided dice).\n",
    "\n",
    "Calculate the expected damage from each weapon by following the below steps. \n",
    "\n",
    "1. For each weapon use one or more for loops to create an array containing all possible outcomes of the die rolls for that weapon (including duplicates if any). \n",
    "(For 1d6 this would be `[1,2,3,4,5,6]` for 2d6 `[(1,1), (1,2), ...., (6,6)]`)\n",
    "2. Create a `Counter` from each array.\n",
    "3. Iterate over the elements of this `Counter` in a for loop. \n",
    "\n",
    "   3a. For each value calculate the probability of that value (using the number of times it occurs in the `Counter`) and the value times its probability. \n",
    "   \n",
    "   3b. Print them (the value, its probability, and their product). \n",
    "4. After that loop, display the sum of these value/probability products, which is the expectation of the damage."
   ]
  },
  {
   "cell_type": "code",
   "execution_count": 4,
   "metadata": {},
   "outputs": [
    {
     "ename": "IndexError",
     "evalue": "list index out of range",
     "output_type": "error",
     "traceback": [
      "\u001b[1;31m---------------------------------------------------------------------------\u001b[0m",
      "\u001b[1;31mIndexError\u001b[0m                                Traceback (most recent call last)",
      "\u001b[1;32m<ipython-input-4-0e2a51cdeb0e>\u001b[0m in \u001b[0;36m<module>\u001b[1;34m()\u001b[0m\n\u001b[0;32m      6\u001b[0m \u001b[1;32mfor\u001b[0m \u001b[0mx\u001b[0m \u001b[1;32min\u001b[0m \u001b[0mrange\u001b[0m\u001b[1;33m(\u001b[0m\u001b[1;36m1\u001b[0m\u001b[1;33m,\u001b[0m\u001b[1;36m9\u001b[0m\u001b[1;33m)\u001b[0m\u001b[1;33m:\u001b[0m\u001b[1;33m\u001b[0m\u001b[0m\n\u001b[0;32m      7\u001b[0m     \u001b[0meightsided\u001b[0m\u001b[1;33m.\u001b[0m\u001b[0mappend\u001b[0m\u001b[1;33m(\u001b[0m\u001b[0mx\u001b[0m\u001b[1;33m)\u001b[0m\u001b[1;33m\u001b[0m\u001b[0m\n\u001b[1;32m----> 8\u001b[1;33m     \u001b[0mprint\u001b[0m\u001b[1;33m(\u001b[0m\u001b[0meightsided\u001b[0m\u001b[1;33m[\u001b[0m\u001b[0mx\u001b[0m\u001b[1;33m]\u001b[0m\u001b[1;33m)\u001b[0m\u001b[1;33m\u001b[0m\u001b[0m\n\u001b[0m\u001b[0;32m      9\u001b[0m \u001b[0mprint\u001b[0m\u001b[1;33m(\u001b[0m\u001b[0mcounter1\u001b[0m\u001b[1;33m)\u001b[0m\u001b[1;33m\u001b[0m\u001b[0m\n\u001b[0;32m     10\u001b[0m \u001b[0msummer1\u001b[0m \u001b[1;33m=\u001b[0m \u001b[1;33m[\u001b[0m\u001b[1;33m]\u001b[0m\u001b[1;33m\u001b[0m\u001b[0m\n",
      "\u001b[1;31mIndexError\u001b[0m: list index out of range"
     ]
    }
   ],
   "source": [
    "##your answer here\n",
    "from collections import Counter\n",
    "\n",
    "# roll 1 eight-sided die\n",
    "eightsided = []\n",
    "for x in range(1,9):\n",
    "    eightsided.append(x)\n",
    "    print(eightsided[x])   \n",
    "print(counter1)\n",
    "summer1 = []\n",
    "supersum1 = 0\n",
    "for i in range(0,16):\n",
    "    sum1 = counter1.count(i+1)\n",
    "    prob1 = counter1.count(i+1) / 8\n",
    "    summer1.append((i+1)*prob1)\n",
    "    print(i+1, ' : ',sum1, prob1, summer1[i])\n",
    "    supersum1 = supersum1 + summer1[i]\n",
    "print(supersum1)\n",
    "\n",
    "# roll 2 four-sided dice\n",
    "foursided = []\n",
    "counter2 = []\n",
    "for x in range(1,5):\n",
    "    x1 = x\n",
    "    for y in range(1,5):\n",
    "        y1 = y\n",
    "        b = (x1,y1)\n",
    "        foursided.append(b)\n",
    "        counter2.append(x + y + 2) \n",
    "for x in range(0,16):\n",
    "    print(foursided[x])\n",
    "print(counter2)\n",
    "summer = []\n",
    "supersum = 0\n",
    "for i in range(0,16):\n",
    "    sum = counter2.count(i+1)\n",
    "    prob = counter2.count(i+1) / 16\n",
    "    summer.append((i)*prob)\n",
    "    print(i+1, ' : ',sum, prob, summer[i])\n",
    "    supersum = supersum + summer[i]\n",
    "print(supersum)\n",
    "        "
   ]
  },
  {
   "cell_type": "markdown",
   "metadata": {},
   "source": [
    "Now calculate the variance of the weapons, **using the x\n",
    "list comprehension syntax**. \n",
    "\n",
    "Starting with the lists of possible outcomes (including any duplicates) that you created in the previous block, create new lists containing the square of the difference between each value and the expectation that you calculated for that weapon. \n",
    "\n",
    "As an example, if my data points were 1, 2, 4 then the expected value would be $\\bar{x}=\\frac{7}{3}$ and the list would be $[(1-\\bar{x})^2, (2-\\bar{x})^2, (4-\\bar{x})^2]$\n",
    "\n",
    "Print these new lists and their respective averages, which are the variances of the distributions."
   ]
  },
  {
   "cell_type": "code",
   "execution_count": 71,
   "metadata": {},
   "outputs": [
    {
     "name": "stdout",
     "output_type": "stream",
     "text": [
      "[12.25, 6.25, 2.25, 0.25, 0.25, 2.25, 6.25, 12.25]\n",
      "5.25\n",
      "[4.0, 1.0, 0.0, 1.0, 1.0, 0.0, 1.0, 4.0, 0.0, 1.0, 4.0, 9.0, 1.0, 4.0, 9.0, 16.0]\n",
      "3.5\n"
     ]
    }
   ],
   "source": [
    "##answer here\n",
    "\n",
    "# 8 sided die\n",
    "expected_values2 = []\n",
    "nowsum = 0\n",
    "for i in range(0,len(counter1)):\n",
    "    x = (counter1[i]-4.5)**2 \n",
    "    expected_values2.append(x)\n",
    "    nowsum += x\n",
    "print(expected_values2)\n",
    "avg1 = nowsum / 8\n",
    "print(avg1)\n",
    "\n",
    "# 4 sided die\n",
    "expected_values = []\n",
    "nowsum2 = 0\n",
    "for i in range(0,len(counter2)):\n",
    "    x = (counter2[i]-4.0)**2 \n",
    "    expected_values.append(x)\n",
    "    nowsum2 += x\n",
    "print(expected_values)\n",
    "avg2 = nowsum2 / 16\n",
    "print(avg2)"
   ]
  },
  {
   "cell_type": "markdown",
   "metadata": {},
   "source": [
    "Which is better? Describe why you might prefer the 1d8 weapon or the 2d4 weapon. (No game knowledge is necessary, we will grade based on your reasoning.)"
   ]
  },
  {
   "cell_type": "markdown",
   "metadata": {},
   "source": [
    "Answer here: The 1d8 weapon is more powerful as it yeilds a greater average damage, however it is not as reliable as it has a greater variance. On the other hand the 2d4 weapon yields a lower average damage but is more reliable as it has a lower variance. Generally the 1d8 would be a better but slightly riskier choice. "
   ]
  }
 ],
 "metadata": {
  "kernelspec": {
   "display_name": "Python 3",
   "language": "python",
   "name": "python3"
  },
  "language_info": {
   "codemirror_mode": {
    "name": "ipython",
    "version": 3
   },
   "file_extension": ".py",
   "mimetype": "text/x-python",
   "name": "python",
   "nbconvert_exporter": "python",
   "pygments_lexer": "ipython3",
   "version": "3.6.5"
  }
 },
 "nbformat": 4,
 "nbformat_minor": 2
}
