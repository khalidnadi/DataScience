{
 "cells": [
  {
   "cell_type": "code",
   "execution_count": 1,
   "metadata": {},
   "outputs": [],
   "source": [
    "import numpy\n",
    "from matplotlib import pyplot\n",
    "import re"
   ]
  },
  {
   "cell_type": "markdown",
   "metadata": {},
   "source": [
    "## Q1: loops practice \n",
    "\n",
    "This problem will give you some examples of the kind of \"coding\" questions we will ask on the midterm. For the test next week assume you have paper and a pencil.\n",
    "\n",
    "The following blocks have some commented-out code.\n",
    "\n",
    "1. *Without* executing the code, write down your guess about what will be displayed by the print statements. We can't stop you from running it first, but please don't -- you'll learn more this way.\n",
    "\n",
    "2. Rewrite the code blocks as described in the comments. The goal is to recognize correspondences between different ways to implement the same processes."
   ]
  },
  {
   "cell_type": "code",
   "execution_count": 10,
   "metadata": {},
   "outputs": [
    {
     "name": "stdout",
     "output_type": "stream",
     "text": [
      "[0, 1, 8, 27, 64, 125, 216]\n"
     ]
    }
   ],
   "source": [
    "## Write a list comprehension that is equivalent to the commented-out for loop\n",
    "source_array = [0, 1, 2, 3, 4, 5, 6]\n",
    "\n",
    "# result_1 = []\n",
    "# for i in source_array:\n",
    "#    result_1.append(i**3)\n",
    "# print(result_1)\n",
    "    \n",
    "## Answer here: \n",
    "result = [i**3 for i in source_array] \n",
    "print(result)\n",
    "# if result stays result, it won't work [0, 1, 8, 27, 64, 125, 216]"
   ]
  },
  {
   "cell_type": "code",
   "execution_count": 14,
   "metadata": {},
   "outputs": [
    {
     "name": "stdout",
     "output_type": "stream",
     "text": [
      "[0.0, 0.6931471805599453, 1.0986122886681098, 1.3862943611198906, 1.6094379124341003]\n"
     ]
    }
   ],
   "source": [
    "## Write a for loop that is equivalent to the commented-out list comprehension\n",
    "\n",
    "#result_2 = [ numpy.log(i-1) for i in source_array if i > 1 ]\n",
    "#print(result_2)\n",
    "\n",
    "## Answer here:\n",
    "\n",
    "result_2 = []\n",
    "for i in source_array:\n",
    "    if i > 1:\n",
    "        result_2.append(numpy.log(i-1))\n",
    "print(result_2)\n",
    "    "
   ]
  },
  {
   "cell_type": "code",
   "execution_count": 5,
   "metadata": {},
   "outputs": [
    {
     "name": "stdout",
     "output_type": "stream",
     "text": [
      "['lalala', 'lalala', 'lalala', 'la la la']\n"
     ]
    }
   ],
   "source": [
    "## Write a list comprehension that is equivalent to the commented-out for loop.\n",
    "lots_of_space = ['    lalala', 'lalala      ', '    lalala      ', '   la la la   ']\n",
    "\n",
    "# strings have many useful functions. `strip()` removes whitespace \n",
    "#  characters at the beginning and end of the string.\n",
    "\n",
    "# no_spaces = []\n",
    "# for s in lots_of_space:\n",
    "#    no_spaces.append(s.strip())\n",
    "# print(no_spaces)\n",
    "    \n",
    "## Answer here:\n",
    "\n",
    "no_spaces = [s.strip() for s in lots_of_space] \n",
    "print(no_spaces)"
   ]
  },
  {
   "cell_type": "code",
   "execution_count": 6,
   "metadata": {},
   "outputs": [
    {
     "name": "stdout",
     "output_type": "stream",
     "text": [
      "[65, 66, 67, 68, 69, 70, 71]\n",
      "[65, 66, 67, 68, 69, 70, 71]\n"
     ]
    }
   ],
   "source": [
    "## Write a for loop that is equivalent to the commented-out list comprehension\n",
    "\n",
    "# Internally, your computer represents strings as lists of integers.\n",
    "# Each character has a code: A is 65, B is 66, etc. `ord(c)` returns\n",
    "#  the integer code for the character `c`.\n",
    "\n",
    "# character_codes = [ ord(c) for c in \"AkBlCnDgE F5G\" if c.isupper() ]\n",
    "# print(character_codes)\n",
    "    \n",
    "## Answer here:\n",
    "character_codes = []\n",
    "for c in \"AkBlCnDgE F5G\":\n",
    "    if c.isupper():\n",
    "        character_codes.append(ord(c))\n",
    "print(character_codes)"
   ]
  },
  {
   "cell_type": "code",
   "execution_count": 12,
   "metadata": {},
   "outputs": [
    {
     "name": "stdout",
     "output_type": "stream",
     "text": [
      "['Past tense', 'Past tense', 'Present tense', 'Past tense', 'Present tense', 'Present tense']\n"
     ]
    }
   ],
   "source": [
    "## Write a list comprehension that is equivalent to the commented-out for loop.\n",
    "words = [\"walked\", \"talked\", \"plays\", \"worked\", \"sings\", \"meows\"]\n",
    "\n",
    "# tenses = []\n",
    "# for w in words:\n",
    "#    if w[-2:] == \"ed\":\n",
    "#        tenses.append(\"Past tense\")\n",
    "#    else:\n",
    "#        tenses.append(\"Present tense\")\n",
    "# print(tenses)\n",
    "    \n",
    "## Answer here:\n",
    "tenses = [\"Past tense\" if w[-2:] == \"ed\" else \"Present tense\" for w in words]\n",
    "print(tenses)"
   ]
  },
  {
   "cell_type": "markdown",
   "metadata": {},
   "source": [
    "## Q2: Regular expressions\n",
    "\n",
    "Use regular expressions to carry out the following operations on this string from the Wikipedia article for the normal distribution."
   ]
  },
  {
   "cell_type": "code",
   "execution_count": null,
   "metadata": {},
   "outputs": [],
   "source": [
    "# re.compile(\"[a-zA-Z]+\") ##won't include numbers\n",
    "# my_reg_exp = re.compile('\\w+')\n",
    "# words = my_reg_exp.findall(wikitext)\n",
    "# for i in words:\n",
    "# #     if i[0] == 'G':\n",
    "# #         G_start.append(i)\n",
    "#     if 5==3:\n",
    "#         print('test')\n",
    "# print(G_start)"
   ]
  },
  {
   "cell_type": "code",
   "execution_count": 14,
   "metadata": {
    "scrolled": true
   },
   "outputs": [],
   "source": [
    "import re\n",
    "wikitext = \"In probability theory, the normal (or Gaussian or Gauss or Laplace–Gauss) distribution is a very common continuous probability distribution. Normal distributions are important in statistics and are often used in the natural and social sciences to represent real-valued random variables whose distributions are not known.[1][2] A random variable with a Gaussian distribution is said to be normally distributed and is called a normal deviate.\"\n",
    "\n",
    "# 1. Find all words that start with G, and print them.\n",
    "\n",
    "# 2. Find all words more than three letters long, and print them.\n",
    "\n",
    "# 3. Create a new version of the string where all capitalized words have been substituted with \"XXX\". Print this string.\n",
    "\n",
    "# 4. Find text in square brackets [] using a capturing group (), and print the contents of that group. Since [] has a meaning in regex syntax, use \"\\[\\]\". Do not capture any square bracket characters: \"1][2\" is incorrect."
   ]
  },
  {
   "cell_type": "code",
   "execution_count": 20,
   "metadata": {},
   "outputs": [
    {
     "name": "stdout",
     "output_type": "stream",
     "text": [
      "['Gaussian', 'Gauss', 'Gauss', 'Gaussian']\n"
     ]
    }
   ],
   "source": [
    "import re\n",
    "# 1. Find all words that start with G, and print them.\n",
    "wikitext = \"In probability theory, the normal (or Gaussian or Gauss or Laplace–Gauss) distribution is a very common continuous probability distribution. Normal distributions are important in statistics and are often used in the natural and social sciences to represent real-valued random variables whose distributions are not known.[1][2] A random variable with a Gaussian distribution is said to be normally distributed and is called a normal deviate.\"\n",
    "print(re.findall('G\\w*',wikitext))"
   ]
  },
  {
   "cell_type": "code",
   "execution_count": 22,
   "metadata": {},
   "outputs": [
    {
     "name": "stdout",
     "output_type": "stream",
     "text": [
      "['probability', 'theory', 'normal', 'Gaussian', 'Gauss', 'Laplace', 'Gauss', 'distribution', 'very', 'common', 'continuous', 'probability', 'distribution', 'Normal', 'distributions', 'important', 'statistics', 'often', 'used', 'natural', 'social', 'sciences', 'represent', 'real', 'valued', 'random', 'variables', 'whose', 'distributions', 'known', 'random', 'variable', 'with', 'Gaussian', 'distribution', 'said', 'normally', 'distributed', 'called', 'normal', 'deviate']\n"
     ]
    }
   ],
   "source": [
    "#atleast 3 letters long\n",
    "print(re.findall('\\w\\w\\w\\w+',wikitext))"
   ]
  },
  {
   "cell_type": "code",
   "execution_count": 28,
   "metadata": {},
   "outputs": [
    {
     "name": "stdout",
     "output_type": "stream",
     "text": [
      "XXX probability theory, the normal (or XXX or XXX or XXX–XXX) distribution is a very common continuous probability distribution. XXX distributions are important in statistics and are often used in the natural and social sciences to represent real-valued random variables whose distributions are not known.[1][2] XXX random variable with a XXX distribution is said to be normally distributed and is called a normal deviate.\n"
     ]
    }
   ],
   "source": [
    "print(re.sub(\"[A-Z]\\w*\",\"XXX\",wikitext))"
   ]
  },
  {
   "cell_type": "code",
   "execution_count": 26,
   "metadata": {},
   "outputs": [
    {
     "name": "stdout",
     "output_type": "stream",
     "text": [
      "['1', '2']\n"
     ]
    }
   ],
   "source": [
    "print(re.findall(\"\\[(\\w)\\]\",wikitext))"
   ]
  },
  {
   "cell_type": "code",
   "execution_count": 18,
   "metadata": {},
   "outputs": [],
   "source": [
    "\n",
    "# re.findall(regular_expression, string_to_search)\n",
    "# re.sub(regular_expression, replacement_expression, string)\n",
    "# '\\w' is a RE corresponding to any single number / letter character\n",
    "# '\\w+' will match continious strings of single characters / numbers / letters\n",
    "\n",
    "# '\\w*' will match any string containing 0 or more '\\w's (hint for #3)\n",
    "\n",
    "# 'V' will match a single V\n",
    "# 'V+'' will match continious sequences of V's' \n",
    "\n",
    "# '\\wV' will match any substring of form letter characters collated V\n",
    "# '\\wV*' will match any string that starts with a capital V and has\n",
    "#    atleast one or more letter/ number \n",
    "#    characters immediatly after {examples vegetation, V, variables}\n",
    "\n",
    "# capturing groups\n",
    "# when searching for a reg expression that contains a capturing group,\n",
    "#   syntactically denoted by (), \n",
    "#   only the sub regular expression contained withinw3w`"
   ]
  },
  {
   "cell_type": "code",
   "execution_count": null,
   "metadata": {},
   "outputs": [],
   "source": []
  },
  {
   "cell_type": "markdown",
   "metadata": {},
   "source": [
    "## Q3: Spot the fake Poissons\n",
    "\n",
    "The Poisson is a distribution over integers from 0 to $\\infty$. Its mean is equal to its variance. Three of the following six arrays I sampled from `numpy.random.poisson()` with different parameters. Which is which? Explain your choice based on the properties of each array, such as summary statistics and histograms. BONUS PROBLEM worth no extra points: One of these is real data, which one, and what do the numbers represent?"
   ]
  },
  {
   "cell_type": "code",
   "execution_count": 3,
   "metadata": {},
   "outputs": [],
   "source": [
    "mystery_0 = numpy.array([91, 88, 97, 84, 99, 101, 96, 111, 86, 89, 93, 119, 97, 110, 84, 106, 117, 101])\n",
    "mystery_1 = numpy.array([3, 1, 7, 3, 0, 2, 4, 3, 4, 4, 5, 2, 4, 3])\n",
    "mystery_2 = numpy.array([14, 7, 7, 13, 5, 12, 7, 4, 4, 9, 2, 4, 2, 11, 2, 3, 10, 5, 20, 10, 10, 4, 9, 9, 5, 6, 6, 2, 3])\n",
    "mystery_3 = numpy.array([14, 9, 9, 9, 12, 9, 9, 9, 9, 9, 9, 10, 9, 11, 9, 9, 10, 9, 9, 9, 9, 9, 18, 9])\n",
    "mystery_4 = numpy.array([4, 16, 15, 6, 13, 10, 10, 7, 6, 12, 6, 15, 7, 10, 7, 9, 8, 11, 16, 14, 12, 9, 5, 9, 10, 12])\n",
    "mystery_5 = numpy.array([5, 0, 8, 4, 6, 2, 2, 7, 3, 0, 0, 7, 0, 0, 0, 11, 1, 2, 6, 9, 2, 2, 0, 5, 4, 0, 7, 0])\n"
   ]
  },
  {
   "cell_type": "code",
   "execution_count": 7,
   "metadata": {},
   "outputs": [
    {
     "name": "stdout",
     "output_type": "stream",
     "text": [
      "0 mean:  98.27777777777777\n",
      "0 var:  110.75617283950618\n",
      "0 difference 12.478395061728406\n",
      "0 Relative difference 0.11939108479631473\n",
      "1 mean:  3.2142857142857144\n",
      "1 var:  2.739795918367347\n",
      "1 difference 0.4744897959183674\n",
      "1 Relative difference 0.15938303341902316\n",
      "2 mean:  7.068965517241379\n",
      "2 var:  17.78834720570749\n",
      "2 difference 10.71938168846611\n",
      "2 Relative difference 0.862473092561588\n",
      "3 mean:  9.875\n",
      "3 var:  4.276041666666667\n",
      "3 difference 5.598958333333333\n",
      "3 Relative difference 0.7913139492086859\n",
      "4 mean:  9.961538461538462\n",
      "4 var:  11.652366863905325\n",
      "4 difference 1.6908284023668632\n",
      "4 Relative difference 0.15645746355485585\n",
      "5 mean:  3.3214285714285716\n",
      "5 var:  10.289540816326532\n",
      "5 difference 6.968112244897961\n",
      "5 Relative difference 1.0238965420298005\n",
      "[0.11939108479631473, 0.15938303341902316, 0.862473092561588, 0.7913139492086859, 0.15645746355485585, 1.0238965420298005]\n"
     ]
    },
    {
     "data": {
      "image/png": "[encoded data removed]",
      "text/plain": [
       "<Figure size 432x288 with 1 Axes>"
      ]
     },
     "metadata": {},
     "output_type": "display_data"
    },
    {
     "data": {
      "image/png": "[encoded data removed]",
      "text/plain": [
       "<Figure size 432x288 with 1 Axes>"
      ]
     },
     "metadata": {},
     "output_type": "display_data"
    },
    {
     "data": {
      "image/png": "[encoded data removed]",
      "text/plain": [
       "<Figure size 432x288 with 1 Axes>"
      ]
     },
     "metadata": {},
     "output_type": "display_data"
    },
    {
     "data": {
      "image/png": "[encoded data removed]",
      "text/plain": [
       "<Figure size 432x288 with 1 Axes>"
      ]
     },
     "metadata": {},
     "output_type": "display_data"
    },
    {
     "data": {
      "image/png": "[encoded data removed]",
      "text/plain": [
       "<Figure size 432x288 with 1 Axes>"
      ]
     },
     "metadata": {},
     "output_type": "display_data"
    },
    {
     "data": {
      "image/png": "[encoded data removed]",
      "text/plain": [
       "<Figure size 432x288 with 1 Axes>"
      ]
     },
     "metadata": {},
     "output_type": "display_data"
    }
   ],
   "source": [
    "import numpy\n",
    "from matplotlib import pyplot\n",
    "## Answer here. Use a mix of code and text blocks as needed.\n",
    "## If the mean and Variance are similar it is more likely to be a poisson distribution\n",
    "a = [mystery_0, mystery_1, mystery_2, mystery_3, mystery_4, mystery_5]\n",
    "\n",
    "count = 0\n",
    "rel_differences = []\n",
    "for x in a:\n",
    "    print(count, 'mean: ',numpy.mean(x))\n",
    "    print(count, 'var: ',numpy.var(x))\n",
    "    diff = abs(numpy.mean(x) - numpy.var(x))\n",
    "    print(count, 'difference', diff)\n",
    "    mean_var_sum = numpy.mean(x) + numpy.var(x)\n",
    "    rel_diff = abs(diff)/((mean_var_sum/2))\n",
    "    print(count, 'Relative difference', rel_diff)\n",
    "    rel_differences.append(rel_diff)\n",
    "    count+=1\n",
    "print(rel_differences)\n",
    "for x in a:\n",
    "    pyplot.hist(x)\n",
    "    pyplot.show()"
   ]
  },
  {
   "cell_type": "markdown",
   "metadata": {},
   "source": [
    "mystery_0, mystery_1, mystery_4 appear to be the poisson data sets since they all have the smallest relative differences between mean and variance value. Similarly their histograms have similar values all across the board with little alterations compared to the other histograms"
   ]
  },
  {
   "cell_type": "markdown",
   "metadata": {},
   "source": [
    "## Q4: Poisson or not?\n",
    "\n",
    "Our goal in statistical modeling is to find a balance between simplicity and accuracy. A simple \"off-the-shelf\" model is good because it is familiar and it is easy to say things about its properties. But we also need to use our real-world knowledge to identify when simple models might be wrong. In this problem we will consider such a model from both of these perspectives.\n",
    "\n",
    "The TCAT 10 bus leaves Seneca St. Station every ten minutes, taking all passengers who arrived since the previous bus. Why might the Poisson distribution be a good model for the number of riders on the bus when it leaves Seneca St? Why might it *not* be a good model?\n",
    "\n",
    "**Answer here**"
   ]
  },
  {
   "cell_type": "markdown",
   "metadata": {},
   "source": [
    "Since the Poisson distribution is meant for a fixed time window when the window of time events reamains relatively the same, it is likely a good model in that case.\n",
    "Since lamda = # of passengers per time window, The lambda in this case changes because more people generally take the bus during rush hours so the result would not be very stable and so the mean and standard variance would get skewed and be different. \n",
    "Also in the case the that the bus does get late for some unforseen reasob to a stop at a specific time, the intervals will not even be the same and so what happens at the previous event can actually alter the next event."
   ]
  }
 ],
 "metadata": {
  "kernelspec": {
   "display_name": "Python 3",
   "language": "python",
   "name": "python3"
  },
  "language_info": {
   "codemirror_mode": {
    "name": "ipython",
    "version": 3
   },
   "file_extension": ".py",
   "mimetype": "text/x-python",
   "name": "python",
   "nbconvert_exporter": "python",
   "pygments_lexer": "ipython3",
   "version": "3.6.5"
  }
 },
 "nbformat": 4,
 "nbformat_minor": 2
}
