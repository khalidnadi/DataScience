{
 "cells": [
  {
   "cell_type": "code",
   "execution_count": null,
   "metadata": {},
   "outputs": [],
   "source": [
    "print('estimate for intercept b ',my_model.intercept_) #estimate for slope b\n",
    "print('estimate for m_hat ',my_model.coef_) #estimate for m_hat\n",
    "print('corrcoef ',np.corrcoef(np.squeeze(x),np.squeeze(y))) #szeeze makses nx1 ndarrays into nx0 ndarrays\n",
    "print('r^2: ',np.corrcoef(np.squeeze(x),np.squeeze(y))**2)\n",
    "a = np.column_stack([x,y])\n",
    "print('array: ',a)\n",
    "cov_matrix = np.cov(a)[0,1]\n",
    "print('covariance: ',cov_matrix)"
   ]
  }
 ],
 "metadata": {
  "kernelspec": {
   "display_name": "Python 3",
   "language": "python",
   "name": "python3"
  },
  "language_info": {
   "codemirror_mode": {
    "name": "ipython",
    "version": 3
   },
   "file_extension": ".py",
   "mimetype": "text/x-python",
   "name": "python",
   "nbconvert_exporter": "python",
   "pygments_lexer": "ipython3",
   "version": "3.6.5"
  }
 },
 "nbformat": 4,
 "nbformat_minor": 2
}
