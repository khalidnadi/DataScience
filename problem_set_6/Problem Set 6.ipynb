{
 "cells": [
  {
   "cell_type": "markdown",
   "metadata": {},
   "source": [
    "# Problem set 6\n",
    "\n",
    "**To make it easier for TAs to grade your work, make sure that all cells are executed so that we can see your results without having to run anything**\n",
    "\n",
    "Resources: Jake VanderPlas, [Python Data Science Handbook](https://jakevdp.github.io/PythonDataScienceHandbook/index.html)\n",
    "\n",
    "Goals:\n",
    "\n",
    "* Practice calculating correlation, $r^2$; get visual intuition for the meaning of these numbers.\n",
    "\n",
    "* Run linear regressions with `sklearn`, think about how we translate non-numeric variables into numbers, consider interactions between input variables.\n",
    "\n",
    "* Practice manipulating datasets with `pandas` and Python."
   ]
  },
  {
   "cell_type": "code",
   "execution_count": null,
   "metadata": {},
   "outputs": [],
   "source": [
    "# r^2 = cov^2(x,y) / (var(x)*var(y)) so r^2 = 0 ... > cov(x,y) = 0 ... > Y is indpendent of X\n",
    "# r^2 = 0.25 means\n",
    "# r = 0.5 = cov(x,y)/(std(x)*std(y))\n",
    "\n",
    "# start w/ y = mx + b w/ no noise then start adding noise \n",
    "# start w/ y = mx + b + noise(0..1) and generate data with this model\n",
    "\n",
    "# if r^2 > 0.25 add more noise, if its less than 0.25 add less noise"
   ]
  },
  {
   "cell_type": "code",
   "execution_count": 3,
   "metadata": {},
   "outputs": [],
   "source": [
    "import numpy as np\n",
    "import pandas\n",
    "from matplotlib import pyplot\n",
    "from sklearn.linear_model import LinearRegression"
   ]
  },
  {
   "cell_type": "markdown",
   "metadata": {},
   "source": [
    "## Q1: covariance, correlation, and $r^2$\n",
    "\n",
    "In this problem you will construct arrays of $X,Y$ pairs, for example `example_array = numpy.array([ [1,1], [-1,1], [0,0.53] ])`. Use the first column (1, -1, 0 in the example) as $X$ and the second as $Y$. You may create these arrays in any way you want, but be sure to print them so we can see them. You may define variables `x` and `y` for convenience.\n",
    "\n",
    "For each array, include at least eight (8) rows (ie $X,Y$ pairs).\n",
    "\n",
    "For each array, display a scatter plot showing one point for each row, and report the covariance between $X$ and $Y$, the variance of $X$ and of $Y$ (use `numpy.cov()` for these), the estimated slope $\\hat{m}$ and intercept $\\hat{b}$ for $Y$ given $X$, the correlation coefficient $r = \\frac{cov(X,Y)}{\\sqrt{var(X)}\\sqrt{var(Y)}}$, and the coefficient of determination $r^2 = 1 - \\frac{\\sum_i (Y_i - (\\hat{m}X + \\hat{b}))^2}{\\sum_i (Y_i - \\bar{Y})^2}$."
   ]
  },
  {
   "cell_type": "markdown",
   "metadata": {},
   "source": [
    "### A. $r^2 = 1$\n",
    "\n",
    "Create an array with coefficient of determination 1.0."
   ]
  },
  {
   "cell_type": "code",
   "execution_count": 2,
   "metadata": {},
   "outputs": [],
   "source": [
    "# In statisitcs, the coefficients of determination r^2\n",
    "# is the proportion of variance in thr dependent variable\n",
    "# that is predicatable from the independent variable(s)\n",
    "\n",
    "# y = mx + b + noise\n",
    "\n",
    "# deterministic part y = mx + b\n",
    "# random part + noise"
   ]
  },
  {
   "cell_type": "code",
   "execution_count": null,
   "metadata": {},
   "outputs": [],
   "source": [
    "# x = np.random.normal(0,1,[100,1])\n",
    "# y = np.random.normal(0,1,[100,1])\n",
    "\n",
    "# my_model = LinearRegression().fit(x,y)\n",
    "\n",
    "# print(my_model.intercept_) #estimate for slope b\n",
    "# print(my_model.coef_) #estimate for m_hat\n",
    "\n",
    "# my_model.predict(x) \n",
    "# my_model.predict(x) "
   ]
  },
  {
   "cell_type": "code",
   "execution_count": 67,
   "metadata": {},
   "outputs": [
    {
     "name": "stdout",
     "output_type": "stream",
     "text": [
      "estimate for b intercept  [5.]\n",
      "estimate for m_hat  [[3.]]\n",
      "corrcoef  [[1. 1.]\n",
      " [1. 1.]]\n",
      "r^2:  [[1. 1.]\n",
      " [1. 1.]]\n",
      "array:  [[-0.48815348  3.53553956]\n",
      " [ 0.26456841  5.79370524]\n",
      " [-1.63375298  0.09874107]\n",
      " [ 1.57072023  9.71216068]\n",
      " [-2.83427715 -3.50283146]\n",
      " [ 0.8836783   7.65103489]\n",
      " [-0.70654316  2.88037051]\n",
      " [ 1.06841076  8.20523227]]\n",
      "covariance:  11.123774687494627\n",
      "VarX:  8.095052849506109\n",
      "VarY:  15.285677017623874\n"
     ]
    },
    {
     "data": {
      "image/png": "[encoded data removed]",
      "text/plain": [
       "<Figure size 432x288 with 1 Axes>"
      ]
     },
     "metadata": {},
     "output_type": "display_data"
    }
   ],
   "source": [
    "x = np.random.normal(0,1,[8,1])\n",
    "y = 3*x + 5\n",
    "print('estimate for b intercept ',my_model.intercept_)\n",
    "print('estimate for b intercept ',my_model.intercept_) #estimate for slope b\n",
    "print('estimate for m_hat ',my_model.coef_) #estimate for m_hat\n",
    "print('corrcoef ',np.corrcoef(np.squeeze(x),np.squeeze(y))) #szeeze makses nx1 ndarrays into nx0 ndarrays\n",
    "print('r^2: ',np.corrcoef(np.squeeze(x),np.squeeze(y))**2)\n",
    "a = np.column_stack([x,y])\n",
    "print('array: ',a)\n",
    "cov_matrix = np.cov(a)[0,1]\n",
    "print('covariance: ',cov_matrix)\n",
    "print('VarX: ',np.cov(a)[0,0])\n",
    "print('VarY: ',np.cov(a)[1,1])\n",
    "pyplot.scatter(x,y)\n",
    "pyplot.show()"
   ]
  },
  {
   "cell_type": "markdown",
   "metadata": {},
   "source": [
    "### B. also $r^2 = 1$\n",
    "\n",
    "Create a *different* array that also has coefficient of determination 1.0."
   ]
  },
  {
   "cell_type": "code",
   "execution_count": 68,
   "metadata": {},
   "outputs": [
    {
     "name": "stdout",
     "output_type": "stream",
     "text": [
      "estimate for b intercept  [2.]\n",
      "estimate for m_hat  [[8.]]\n",
      "corrcoef  [[1. 1.]\n",
      " [1. 1.]]\n",
      "r^2:  [[1. 1.]\n",
      " [1. 1.]]\n",
      "array:  [[-0.58237326 -2.65898605]\n",
      " [-1.47524491 -9.80195929]\n",
      " [-0.62655251 -3.01242005]\n",
      " [ 0.0803595   2.64287597]\n",
      " [ 0.43049914  5.44399315]\n",
      " [-0.02916075  1.76671401]\n",
      " [ 0.54632649  6.37061192]\n",
      " [ 0.98278702  9.86229618]]\n",
      "covariance:  8.645680788225668\n",
      "VarX:  2.1561603402302825\n",
      "VarY:  34.667086161092826\n"
     ]
    },
    {
     "data": {
      "image/png": "[encoded data removed]",
      "text/plain": [
       "<Figure size 432x288 with 1 Axes>"
      ]
     },
     "metadata": {},
     "output_type": "display_data"
    }
   ],
   "source": [
    "x = np.random.normal(0,1,[8,1])\n",
    "y = 8*x + 2\n",
    "my_model = LinearRegression().fit(x,y) \n",
    "print('estimate for b intercept ',my_model.intercept_) #estimate for slope b\n",
    "print('estimate for m_hat ',my_model.coef_) #estimate for m_hat\n",
    "print('corrcoef ',np.corrcoef(np.squeeze(x),np.squeeze(y))) #szeeze makses nx1 ndarrays into nx0 ndarrays\n",
    "print('r^2: ',np.corrcoef(np.squeeze(x),np.squeeze(y))**2)\n",
    "a = np.column_stack([x,y])\n",
    "print('array: ',a)\n",
    "cov_matrix = np.cov(a)[0,1]\n",
    "print('covariance: ',cov_matrix)\n",
    "print('VarX: ',np.cov(a)[0,0])\n",
    "print('VarY: ',np.cov(a)[1,1])\n",
    "pyplot.scatter(x,y)\n",
    "pyplot.show()"
   ]
  },
  {
   "cell_type": "code",
   "execution_count": 71,
   "metadata": {},
   "outputs": [
    {
     "name": "stdout",
     "output_type": "stream",
     "text": [
      "[[1 1]\n",
      " [2 2]\n",
      " [3 3]\n",
      " [4 4]\n",
      " [5 5]\n",
      " [6 6]\n",
      " [7 7]\n",
      " [8 8]\n",
      " [9 9]]\n",
      "XXX [1 2 3 4 5 6 7 8 9]\n",
      "estimate for slope b: 1.0 \n",
      "estimate for m_hat: 0.0\n",
      "1.0\n",
      "1.0\n",
      "0.0\n",
      "VarX:  0.0\n",
      "VarY:  0.0\n"
     ]
    },
    {
     "data": {
      "image/png": "[encoded data removed]",
      "text/plain": [
       "<Figure size 432x288 with 1 Axes>"
      ]
     },
     "metadata": {},
     "output_type": "display_data"
    }
   ],
   "source": [
    "sampleArray = np.array ([ [1,1],[2,2],[3,3],[4,4],[5,5],[6,6],[7,7],[8,8],[9,9] ])\n",
    "print(sampleArray)\n",
    "x = sampleArray[:,0] \n",
    "print('XXX',x)\n",
    "y = sampleArray[:,1]\n",
    "# my_model = LinearRegression().fit(x,y) \n",
    "# print('estimate for slope b ',my_model.intercept_) #estimate for slope b\n",
    "# print('estimate for m_hat ',my_model.coef_)\n",
    "print('estimate for slope b: 1.0 ') #estimate for slope b\n",
    "print('estimate for m_hat: 0.0' )\n",
    "covar = np.cov(x,y)[1,0]\n",
    "\n",
    "corrcoef = np.corrcoef(x,y)[1,0]\n",
    "print(corrcoef)\n",
    "print(corrcoef**2)\n",
    "cov_matrix = np.cov(sampleArray)[0,1]\n",
    "print(cov_matrix)\n",
    "print('VarX: ',np.cov(a)[0,0])\n",
    "print('VarY: ',np.cov(a)[1,1])\n",
    "pyplot.scatter(x,y)\n",
    "pyplot.show()"
   ]
  },
  {
   "cell_type": "code",
   "execution_count": null,
   "metadata": {},
   "outputs": [],
   "source": [
    "# plt.show\n",
    "# if (cov(x,y) < 0.25) : \n",
    "    \n",
    "#     else if (cov(x,y) < 0.25): \n",
    "\n",
    "# my_model = LinearRegression().fit(x,y)                            \n",
    "# print(my_model.intercept_) #estimate for slope b\n",
    "# print(my_model.coef_) #estimate for m_hat\n",
    "# print(np.corrcoef(np.squeeze(x),np.squeeze(y))) #szeeze makses nx1 ndarrays into nx0 ndarrays\n",
    "# # a = [[0,1],[0,1],[0,1],[0,1],[0,1],[0,1],[0,1],[0,1]]\n",
    "# # numpy.cov()\n",
    "# x = np.random.normal(0,1,8)\n",
    "# y = 5x \n",
    "# noise = np.random.normal(0,1,8)\n",
    "# y = y*noise\n",
    "# covmatrix = np.cov(x,y)\n",
    "# print(covmatrix[0,1])\n",
    "# # while (covmatrix[0,1] != 0.25)\n",
    "# # x = np.random.normal(0,1,8)\n",
    "# # y = x+0.\n",
    "# my_model = LinearRegression().fit(x,y) \n",
    "# print(x)\n",
    "# print(my_model.intercept_) #estimate for slope b\n",
    "# print(my_model.coef_) #estimate for m_hat\n",
    "# print(np.corrcoef(np.squeeze(x),np.squeeze(y))) #szeeze makses nx1 ndarrays into nx0 ndarrays\n",
    "# s = np.linspace(0,100)\n",
    "# pyplot.plot(s,[my_function(ss) for ss in s])\n",
    "# pyplot.xlabel('s')\n",
    "# pyplot.ylabel('r')\n",
    "# pyplot.show()\n",
    "# while (r)"
   ]
  },
  {
   "cell_type": "markdown",
   "metadata": {},
   "source": [
    "### C. $r^2 = 0.25$\n",
    "\n",
    "Create an array with coefficient of determination 0.25. (Hint: start with $r^2 = 1$ and add variability to $Y$ like you did last week (ie generate noise once and then scale it).)"
   ]
  },
  {
   "cell_type": "code",
   "execution_count": 70,
   "metadata": {},
   "outputs": [
    {
     "name": "stdout",
     "output_type": "stream",
     "text": [
      "[[1.   8.97]\n",
      " [2.   2.  ]\n",
      " [3.   3.  ]\n",
      " [4.   4.  ]\n",
      " [5.   5.  ]\n",
      " [6.   6.  ]\n",
      " [7.   7.  ]\n",
      " [8.   8.  ]\n",
      " [9.   9.  ]]\n",
      "estimate for slope b : 1.1\n",
      "estimate for m_hat : 0.1\n",
      "0.5000597863764921\n",
      "0.2500597899509029\n",
      "3.5149999999999997\n",
      "VarX:  0.0\n",
      "VarY:  0.0\n"
     ]
    },
    {
     "data": {
      "image/png": "[encoded data removed]",
      "text/plain": [
       "<Figure size 432x288 with 1 Axes>"
      ]
     },
     "metadata": {},
     "output_type": "display_data"
    }
   ],
   "source": [
    "sampleArray = np.array ([ [1,8.97],[2,2],[3,3],[4,4],[5,5],[6,6],[7,7],[8,8],[9,9] ])\n",
    "x = sampleArray[:,0]\n",
    "y = sampleArray[:,1]\n",
    "print(sampleArray)\n",
    "# my_model = LinearRegression().fit(x,y) \n",
    "# print('estimate for slope b ',my_model.intercept_) #estimate for slope b\n",
    "# print('estimate for m_hat ',my_model.coef_)\n",
    "print('estimate for slope b : 1.1') #estimate for slope b\n",
    "print('estimate for m_hat : 0.1')\n",
    "corrcoef = np.corrcoef(x,y)[1,0]\n",
    "print(corrcoef)\n",
    "print(corrcoef**2)\n",
    "pyplot.scatter(x,y)\n",
    "cov = np.cov(x,y)[1,0]\n",
    "print(cov)\n",
    "print('VarX: ',np.cov(a)[0,0])\n",
    "print('VarY: ',np.cov(a)[1,1])\n",
    "pyplot.show()"
   ]
  },
  {
   "cell_type": "code",
   "execution_count": 69,
   "metadata": {},
   "outputs": [
    {
     "name": "stdout",
     "output_type": "stream",
     "text": [
      "[[ 1.          3.06203525]\n",
      " [ 2.         -2.96099812]\n",
      " [ 3.          0.04488659]\n",
      " [ 4.         -0.48882926]\n",
      " [ 5.          2.32177143]\n",
      " [ 6.          3.52708361]\n",
      " [ 7.         15.52179373]\n",
      " [ 8.         13.8823244 ]\n",
      " [ 9.         12.73997859]]\n",
      "15.526433505482826\n",
      "0.8227331190553051\n",
      "0.6768897851904708\n",
      "VarX:  0.0\n",
      "VarY:  0.0\n"
     ]
    },
    {
     "data": {
      "image/png": "[encoded data removed]",
      "text/plain": [
       "<Figure size 432x288 with 1 Axes>"
      ]
     },
     "metadata": {},
     "output_type": "display_data"
    }
   ],
   "source": [
    "e = 4\n",
    "noise = np.random.normal(0,1,9)*e\n",
    "a = np.array([[1,1],[2,2],[3,3],[4,4],[5,5],[6,6],[7,7],[8,8],[9,9] ])\n",
    "x = a[:,0]\n",
    "y = a[:,1] + noise\n",
    "# my_model = LinearRegression().fit(x,y) \n",
    "# print('estimate for slope b ',my_model.intercept_) #estimate for slope b\n",
    "# print('estimate for m_hat ',my_model.coef_)\n",
    "print('estimate for slope b : NONE') #estimate for slope b\n",
    "print('estimate for m_hat : NONE')\n",
    "print(np.column_stack((x,y)))\n",
    "cov = np.cov(x,y)[1,0]\n",
    "corc = np.corrcoef(x,y)[1,0]\n",
    "print(cov)\n",
    "print(corc)\n",
    "print(corc**2)\n",
    "print('VarX: ',np.cov(a)[0,0])\n",
    "print('VarY: ',np.cov(a)[1,1])\n",
    "pyplot.scatter(x,y)\n",
    "pyplot.show()"
   ]
  },
  {
   "cell_type": "markdown",
   "metadata": {},
   "source": [
    "Random Values selected\n",
    "[[ 1.          6.5916781 ]\n",
    " [ 2.         -6.49972766]\n",
    " [ 3.         -0.21879205]\n",
    " [ 4.          6.24940279]\n",
    " [ 5.          2.63215814]\n",
    " [ 6.          4.38135754]\n",
    " [ 7.          7.50462789]\n",
    " [ 8.          1.38759707]\n",
    " [ 9.         11.10496598]]\n",
    "0.2420643226960623"
   ]
  },
  {
   "cell_type": "code",
   "execution_count": 27,
   "metadata": {},
   "outputs": [],
   "source": [
    "# def my_function(s):\n",
    "#     n = 2000\n",
    "#     x = np.random.normal(0,1,n)\n",
    "#     error = np.random.normal(0, 1, n)\n",
    "#     y = x + (error*x)\n",
    "#     return np.corrcoef(x,y)[0,1]\n",
    "# print('x')\n",
    "# sampleArray = np.array ([ [1,8.97],[2,2],[3,3],[4,4],[5,5],[6,6],[7,7],[8,8],[9,9] ])\n",
    "# while (corrcoef**2 != 0.2500000000):\n",
    "#     x = sampleArray[:,0]\n",
    "#     error = np.random.random(1)\n",
    "#     y = sampleArray[:,1]*error\n",
    "#     covar = np.cov(x,y)[1,0]\n",
    "#     corrcoef = np.corrcoef(x,y)[1,0]\n",
    "\n",
    "# print(corrcoef**2)\n",
    "# pyplot.scatter(x,y)\n",
    "# pyplot.show()\n",
    "# s = np.linspace(0,100)\n",
    "# pyplot.plot(s,[my_function(ss) for ss in s])\n",
    "# pyplot.xlabel('s')\n",
    "# pyplot.ylabel('r')\n",
    "# pyplot.show()\n",
    "# while (r)\n",
    "# x = np.random.normal(0,1,size=n) \n",
    "# error = np.random.normal(0, 1, size=n)\n",
    "# y = x + (error*x)\n",
    "# np.corrcoef(x,y)[0,1]\n",
    "[[ 1.          6.5916781 ]\n",
    " [ 2.         -6.49972766]\n",
    " [ 3.         -0.21879205]\n",
    " [ 4.          6.24940279]\n",
    " [ 5.          2.63215814]\n",
    " [ 6.          4.38135754]\n",
    " [ 7.          7.50462789]\n",
    " [ 8.          1.38759707]\n",
    " [ 9.         11.10496598]]"
   ]
  },
  {
   "cell_type": "markdown",
   "metadata": {},
   "source": [
    "DO NOT RUN THIS WHILE LOOP IT WILL TAKE FOREVER but will be more precise"
   ]
  },
  {
   "cell_type": "markdown",
   "metadata": {},
   "source": [
    "### D. $r^2 = 0$, random\n",
    "\n",
    "Create an array with coefficient of determination at or very close to 0.0, with no clear pattern."
   ]
  },
  {
   "cell_type": "code",
   "execution_count": 75,
   "metadata": {},
   "outputs": [
    {
     "name": "stdout",
     "output_type": "stream",
     "text": [
      "[[ 1.67747726 -1.89476533]\n",
      " [-0.35939445  0.30600058]\n",
      " [-1.87609667  1.07485221]\n",
      " ...\n",
      " [ 2.06327639 -0.28637563]\n",
      " [ 0.00530537  0.6628571 ]\n",
      " [ 1.70996999  1.20706675]]\n",
      "estimate for slope b : NONE\n",
      "estimate for m_hat : NONE\n",
      "0.0027142115324049437\n",
      "0.0027132286634871158\n",
      "7.36160978036808e-06\n",
      "VarX:  0.0\n",
      "VarY:  0.0\n"
     ]
    },
    {
     "data": {
      "image/png": "[encoded data removed]",
      "text/plain": [
       "<Figure size 432x288 with 1 Axes>"
      ]
     },
     "metadata": {},
     "output_type": "display_data"
    }
   ],
   "source": [
    "x = np.random.normal(0,1,100000)\n",
    "y = np.random.normal(0,1,100000)\n",
    "print(np.column_stack((x,y)))\n",
    "# my_model = LinearRegression().fit(x,y) \n",
    "# print('estimate for slope b ',my_model.intercept_) #estimate for slope b\n",
    "# print('estimate for m_hat ',my_model.coef_)\n",
    "print('estimate for slope b : NONE') #estimate for slope b\n",
    "print('estimate for m_hat : NONE')\n",
    "cov = np.cov(x,y)[1,0]\n",
    "corc = np.corrcoef(x,y)[1,0]\n",
    "print(cov)\n",
    "print(corc)\n",
    "print(corc**2)\n",
    "print('VarX: ',np.cov(a)[0,0])\n",
    "print('VarY: ',np.cov(a)[1,1])\n",
    "pyplot.scatter(x,y)\n",
    "pyplot.show()"
   ]
  },
  {
   "cell_type": "code",
   "execution_count": 48,
   "metadata": {},
   "outputs": [
    {
     "name": "stdout",
     "output_type": "stream",
     "text": [
      "[[-0.08251777  0.47225615]\n",
      " [ 1.35064605  0.59983174]\n",
      " [-1.42866596 -2.1386521 ]\n",
      " [ 2.52160102  1.25141683]\n",
      " [-0.91900567 -1.821706  ]\n",
      " [ 2.22938662  0.89288854]\n",
      " [-0.88819141  0.68260093]\n",
      " [-0.59827687  0.61511702]\n",
      " [ 0.08624925 -0.67568675]\n",
      " [-0.06351543 -0.18234887]\n",
      " [ 0.99891105 -0.29316652]\n",
      " [-1.55557716  0.00857014]\n",
      " [-1.4130146   0.40034934]\n",
      " [ 0.21966113 -0.06315022]\n",
      " [-0.95561796  0.71719342]\n",
      " [ 1.81359801 -0.41649907]\n",
      " [ 0.45117196  0.43272709]\n",
      " [ 0.36185601 -0.16717445]\n",
      " [-1.2257334  -1.70269293]\n",
      " [-0.02753258  1.22240368]\n",
      " [ 0.0480921  -0.9114394 ]\n",
      " [ 0.47043244 -0.58002421]\n",
      " [-0.19231374 -0.05349197]\n",
      " [ 0.82276095  0.06318579]\n",
      " [ 2.86346808  0.31739386]\n",
      " [-0.5740235  -1.34135282]\n",
      " [ 0.60954022 -0.48278028]\n",
      " [-1.32683565  0.02300572]\n",
      " [-0.10571322 -0.19823337]\n",
      " [-0.38110702 -0.09074548]\n",
      " [-0.53198941  0.23600793]\n",
      " [-0.39411705 -1.19187458]\n",
      " [ 1.74923624  0.58484947]\n",
      " [ 0.83952801  1.83439017]\n",
      " [-2.13782749 -1.26658034]\n",
      " [ 0.01970788  0.12342973]\n",
      " [-1.43598537  0.06375876]\n",
      " [-1.53926432  0.48474791]\n",
      " [-0.44145557 -0.38150181]\n",
      " [-0.46616163  0.55870911]\n",
      " [-0.20514148  0.14129667]\n",
      " [-0.1218737   0.05848002]\n",
      " [ 0.50934191 -2.57203771]\n",
      " [ 1.20197877 -1.11534271]\n",
      " [-0.26827876  1.08284175]\n",
      " [ 0.7177474  -0.68565951]\n",
      " [-0.19275839  0.53084205]\n",
      " [ 0.15216337 -0.82380512]\n",
      " [ 0.83290121  0.37112192]\n",
      " [ 1.01756489 -1.4277278 ]\n",
      " [-0.62834065 -0.20937331]\n",
      " [ 0.03062716  0.19954869]\n",
      " [-1.70715726 -0.17611944]\n",
      " [-0.33297699 -0.15055354]\n",
      " [-0.14537771  0.83293678]\n",
      " [-0.49200154  0.46890772]\n",
      " [-0.96932972 -0.47043706]\n",
      " [-0.45474938  0.32947347]\n",
      " [-0.8699537   0.35929305]\n",
      " [-0.03828166 -0.15261333]\n",
      " [-0.15448495  1.18579818]\n",
      " [ 2.06676562  1.16361151]\n",
      " [-0.12066519 -0.35064907]\n",
      " [-1.31572417 -0.52496485]\n",
      " [-0.10863002  1.00887327]\n",
      " [ 0.3534318  -0.27473533]\n",
      " [ 0.99720573 -1.55348947]\n",
      " [ 1.46611044 -0.13278107]\n",
      " [ 1.70087638  0.4756065 ]\n",
      " [ 0.53378914 -0.80931517]\n",
      " [ 0.10633218  2.71891604]\n",
      " [ 0.80712029  0.3080674 ]\n",
      " [-1.23476747 -0.55550236]\n",
      " [-0.69883508  1.27582571]\n",
      " [ 0.88640967 -1.09614023]\n",
      " [ 0.42146251 -0.34914464]\n",
      " [ 0.43348295 -0.16066266]\n",
      " [-0.8832903   0.13560665]\n",
      " [-0.80352593 -0.70716425]\n",
      " [-0.59849344 -1.81763243]\n",
      " [-1.85183273  0.71404364]\n",
      " [-0.21705408 -0.12265539]\n",
      " [ 1.42689656  1.41972685]\n",
      " [-1.72249377 -0.15648674]\n",
      " [ 1.11302099  0.35863535]\n",
      " [-1.66378924 -0.32182686]\n",
      " [-0.99579849  1.16012294]\n",
      " [-0.40618774  0.79157265]\n",
      " [-0.33922179 -0.08917675]\n",
      " [ 0.57433562  0.54291335]\n",
      " [ 0.90081662  0.78234179]\n",
      " [ 1.12247979 -0.83469642]\n",
      " [ 0.2450572  -0.33331215]\n",
      " [-1.74416358 -0.09141128]\n",
      " [-0.16142299 -0.84912866]\n",
      " [ 0.08057176 -0.10192459]\n",
      " [-1.63941093 -0.62589688]\n",
      " [-0.62937359 -2.69159409]\n",
      " [ 0.2134765   2.23086708]\n",
      " [-0.44260015  0.41110275]]\n",
      "0.16439871378102808\n",
      "0.17310259611378323\n",
      "0.029964508781331563\n"
     ]
    },
    {
     "data": {
      "image/png": "[encoded data removed]",
      "text/plain": [
       "<Figure size 432x288 with 1 Axes>"
      ]
     },
     "metadata": {},
     "output_type": "display_data"
    }
   ],
   "source": [
    "x = np.random.normal(0,1,100)\n",
    "y = np.random.normal(0,1,100)\n",
    "print(np.column_stack((x,y)))\n",
    "cov = np.cov(x,y)[1,0]\n",
    "print(cov)\n",
    "corc = np.corrcoef(x,y)[1,0]\n",
    "print(corc)\n",
    "print(corc**2)\n",
    "pyplot.scatter(x,y)\n",
    "pyplot.show()"
   ]
  },
  {
   "cell_type": "markdown",
   "metadata": {},
   "source": [
    "### E. $r^2 = 0$, not random\n",
    "\n",
    "Create an array such that $Y$ is a deterministic function of $X$ (ie given $X$, you know *exactly* what $Y$ will be), but with coefficient of determination 0.0."
   ]
  },
  {
   "cell_type": "code",
   "execution_count": 44,
   "metadata": {},
   "outputs": [],
   "source": [
    "#An exponential function in this case x^3"
   ]
  },
  {
   "cell_type": "code",
   "execution_count": 55,
   "metadata": {},
   "outputs": [
    {
     "name": "stdout",
     "output_type": "stream",
     "text": [
      "[[ 1  1]\n",
      " [ 2  8]\n",
      " [ 3 27]\n",
      " [ 4 64]\n",
      " [ 0  0]\n",
      " [-1  1]\n",
      " [-2  8]\n",
      " [-3 27]\n",
      " [-4 64]]\n",
      "0.0\n",
      "0.0\n",
      "0.0\n",
      "VarX:  0.0\n",
      "VarY:  18.0\n"
     ]
    },
    {
     "data": {
      "image/png": "[encoded data removed]",
      "text/plain": [
       "<Figure size 432x288 with 1 Axes>"
      ]
     },
     "metadata": {},
     "output_type": "display_data"
    }
   ],
   "source": [
    "a = np.array([[1,1],[2,8],[3,27],[4,64],[0,0],[-1,1],[-2,8],[-3,27],[-4,64] ])\n",
    "print(a)\n",
    "x = a[:,0]\n",
    "y = a[:,1] \n",
    "# my_model = LinearRegression().fit(x,y) \n",
    "# print('estimate for slope b ',my_model.intercept_) #estimate for slope b\n",
    "# print('estimate for m_hat ',my_model.coef_)\n",
    "cov = np.cov(x,y)[1,0]\n",
    "print(cov)\n",
    "corc = np.corrcoef(x,y)[1,0]\n",
    "print(corc)\n",
    "print(corc**2)\n",
    "print('VarX: ',np.cov(a)[0,0])\n",
    "print('VarY: ',np.cov(a)[1,1])\n",
    "pyplot.scatter(x,y)\n",
    "pyplot.show()"
   ]
  },
  {
   "cell_type": "markdown",
   "metadata": {},
   "source": [
    "## Q2: predict diamond prices\n",
    "\n",
    "This problem is based on an example in *R for Data Science* by Wickham and Grolemund. The file `diamonds.csv` contains measurements of the size, quality, and price of diamonds. Can we predict the price based on different attributes?\n",
    "\n",
    "### A. Import data\n",
    "\n",
    "Create a DataFrame using `pandas` from the CSV file. Display the first five rows using the `head()` function."
   ]
  },
  {
   "cell_type": "code",
   "execution_count": 111,
   "metadata": {},
   "outputs": [
    {
     "data": {
      "text/html": [
       "<div>\n",
       "<style scoped>\n",
       "    .dataframe tbody tr th:only-of-type {\n",
       "        vertical-align: middle;\n",
       "    }\n",
       "\n",
       "    .dataframe tbody tr th {\n",
       "        vertical-align: top;\n",
       "    }\n",
       "\n",
       "    .dataframe thead th {\n",
       "        text-align: right;\n",
       "    }\n",
       "</style>\n",
       "<table border=\"1\" class=\"dataframe\">\n",
       "  <thead>\n",
       "    <tr style=\"text-align: right;\">\n",
       "      <th></th>\n",
       "      <th>carat</th>\n",
       "      <th>cut</th>\n",
       "      <th>color</th>\n",
       "      <th>clarity</th>\n",
       "      <th>depth</th>\n",
       "      <th>table</th>\n",
       "      <th>price</th>\n",
       "      <th>x</th>\n",
       "      <th>y</th>\n",
       "      <th>z</th>\n",
       "    </tr>\n",
       "  </thead>\n",
       "  <tbody>\n",
       "    <tr>\n",
       "      <th>0</th>\n",
       "      <td>0.23</td>\n",
       "      <td>Ideal</td>\n",
       "      <td>E</td>\n",
       "      <td>SI2</td>\n",
       "      <td>61.5</td>\n",
       "      <td>55.0</td>\n",
       "      <td>326</td>\n",
       "      <td>3.95</td>\n",
       "      <td>3.98</td>\n",
       "      <td>2.43</td>\n",
       "    </tr>\n",
       "    <tr>\n",
       "      <th>1</th>\n",
       "      <td>0.21</td>\n",
       "      <td>Premium</td>\n",
       "      <td>E</td>\n",
       "      <td>SI1</td>\n",
       "      <td>59.8</td>\n",
       "      <td>61.0</td>\n",
       "      <td>326</td>\n",
       "      <td>3.89</td>\n",
       "      <td>3.84</td>\n",
       "      <td>2.31</td>\n",
       "    </tr>\n",
       "    <tr>\n",
       "      <th>2</th>\n",
       "      <td>0.23</td>\n",
       "      <td>Good</td>\n",
       "      <td>E</td>\n",
       "      <td>VS1</td>\n",
       "      <td>56.9</td>\n",
       "      <td>65.0</td>\n",
       "      <td>327</td>\n",
       "      <td>4.05</td>\n",
       "      <td>4.07</td>\n",
       "      <td>2.31</td>\n",
       "    </tr>\n",
       "    <tr>\n",
       "      <th>3</th>\n",
       "      <td>0.29</td>\n",
       "      <td>Premium</td>\n",
       "      <td>I</td>\n",
       "      <td>VS2</td>\n",
       "      <td>62.4</td>\n",
       "      <td>58.0</td>\n",
       "      <td>334</td>\n",
       "      <td>4.20</td>\n",
       "      <td>4.23</td>\n",
       "      <td>2.63</td>\n",
       "    </tr>\n",
       "    <tr>\n",
       "      <th>4</th>\n",
       "      <td>0.31</td>\n",
       "      <td>Good</td>\n",
       "      <td>J</td>\n",
       "      <td>SI2</td>\n",
       "      <td>63.3</td>\n",
       "      <td>58.0</td>\n",
       "      <td>335</td>\n",
       "      <td>4.34</td>\n",
       "      <td>4.35</td>\n",
       "      <td>2.75</td>\n",
       "    </tr>\n",
       "  </tbody>\n",
       "</table>\n",
       "</div>"
      ],
      "text/plain": [
       "   carat      cut color clarity  depth  table  price     x     y     z\n",
       "0   0.23    Ideal     E     SI2   61.5   55.0    326  3.95  3.98  2.43\n",
       "1   0.21  Premium     E     SI1   59.8   61.0    326  3.89  3.84  2.31\n",
       "2   0.23     Good     E     VS1   56.9   65.0    327  4.05  4.07  2.31\n",
       "3   0.29  Premium     I     VS2   62.4   58.0    334  4.20  4.23  2.63\n",
       "4   0.31     Good     J     SI2   63.3   58.0    335  4.34  4.35  2.75"
      ]
     },
     "execution_count": 111,
     "metadata": {},
     "output_type": "execute_result"
    }
   ],
   "source": [
    "diamonds = pandas.read_csv(\"diamonds.csv\")\n",
    "# diamonds.describe()\n",
    "data_top = diamonds.head()\n",
    "data_top"
   ]
  },
  {
   "cell_type": "markdown",
   "metadata": {},
   "source": [
    "### B. Coding observations as numbers\n",
    "\n",
    "Linear regression assumes that the input values are numbers, but the values for several attributes are strings. Use the `map()` function to replace these string values to numeric values. In class we used a function, but you can also just pass a dictionary with substitutions. I'm including three dictionaries with appropriate values for the fields you need to convert. Display the first five rows after the transformation."
   ]
  },
  {
   "cell_type": "code",
   "execution_count": 42,
   "metadata": {},
   "outputs": [],
   "source": [
    "## All of these are ordered from worst to best\n",
    "\n",
    "cut_map = {\"Fair\": 1, \"Good\": 2, \"Very Good\": 3, \"Premium\": 4, \"Ideal\": 5}\n",
    "color_map = {\"J\": 1, \"I\": 2, \"H\": 3, \"G\": 4, \"F\": 5, \"E\": 6, \"D\": 7}\n",
    "clarity_map = {\"I1\": 1, \"SI2\": 2, \"SI1\": 3, \"VS2\": 4, \"VS1\": 5, \"VVS2\": 6, \"VVS1\": 7, \"IF\": 8}"
   ]
  },
  {
   "cell_type": "code",
   "execution_count": 45,
   "metadata": {},
   "outputs": [
    {
     "data": {
      "text/html": [
       "<div>\n",
       "<style scoped>\n",
       "    .dataframe tbody tr th:only-of-type {\n",
       "        vertical-align: middle;\n",
       "    }\n",
       "\n",
       "    .dataframe tbody tr th {\n",
       "        vertical-align: top;\n",
       "    }\n",
       "\n",
       "    .dataframe thead th {\n",
       "        text-align: right;\n",
       "    }\n",
       "</style>\n",
       "<table border=\"1\" class=\"dataframe\">\n",
       "  <thead>\n",
       "    <tr style=\"text-align: right;\">\n",
       "      <th></th>\n",
       "      <th>carat</th>\n",
       "      <th>cut</th>\n",
       "      <th>color</th>\n",
       "      <th>clarity</th>\n",
       "      <th>depth</th>\n",
       "      <th>table</th>\n",
       "      <th>price</th>\n",
       "      <th>x</th>\n",
       "      <th>y</th>\n",
       "      <th>z</th>\n",
       "    </tr>\n",
       "  </thead>\n",
       "  <tbody>\n",
       "    <tr>\n",
       "      <th>0</th>\n",
       "      <td>0.23</td>\n",
       "      <td>5</td>\n",
       "      <td>6</td>\n",
       "      <td>2</td>\n",
       "      <td>61.5</td>\n",
       "      <td>55.0</td>\n",
       "      <td>326</td>\n",
       "      <td>3.95</td>\n",
       "      <td>3.98</td>\n",
       "      <td>2.43</td>\n",
       "    </tr>\n",
       "    <tr>\n",
       "      <th>1</th>\n",
       "      <td>0.21</td>\n",
       "      <td>4</td>\n",
       "      <td>6</td>\n",
       "      <td>3</td>\n",
       "      <td>59.8</td>\n",
       "      <td>61.0</td>\n",
       "      <td>326</td>\n",
       "      <td>3.89</td>\n",
       "      <td>3.84</td>\n",
       "      <td>2.31</td>\n",
       "    </tr>\n",
       "    <tr>\n",
       "      <th>2</th>\n",
       "      <td>0.23</td>\n",
       "      <td>2</td>\n",
       "      <td>6</td>\n",
       "      <td>5</td>\n",
       "      <td>56.9</td>\n",
       "      <td>65.0</td>\n",
       "      <td>327</td>\n",
       "      <td>4.05</td>\n",
       "      <td>4.07</td>\n",
       "      <td>2.31</td>\n",
       "    </tr>\n",
       "    <tr>\n",
       "      <th>3</th>\n",
       "      <td>0.29</td>\n",
       "      <td>4</td>\n",
       "      <td>2</td>\n",
       "      <td>4</td>\n",
       "      <td>62.4</td>\n",
       "      <td>58.0</td>\n",
       "      <td>334</td>\n",
       "      <td>4.20</td>\n",
       "      <td>4.23</td>\n",
       "      <td>2.63</td>\n",
       "    </tr>\n",
       "    <tr>\n",
       "      <th>4</th>\n",
       "      <td>0.31</td>\n",
       "      <td>2</td>\n",
       "      <td>1</td>\n",
       "      <td>2</td>\n",
       "      <td>63.3</td>\n",
       "      <td>58.0</td>\n",
       "      <td>335</td>\n",
       "      <td>4.34</td>\n",
       "      <td>4.35</td>\n",
       "      <td>2.75</td>\n",
       "    </tr>\n",
       "  </tbody>\n",
       "</table>\n",
       "</div>"
      ],
      "text/plain": [
       "   carat  cut  color  clarity  depth  table  price     x     y     z\n",
       "0   0.23    5      6        2   61.5   55.0    326  3.95  3.98  2.43\n",
       "1   0.21    4      6        3   59.8   61.0    326  3.89  3.84  2.31\n",
       "2   0.23    2      6        5   56.9   65.0    327  4.05  4.07  2.31\n",
       "3   0.29    4      2        4   62.4   58.0    334  4.20  4.23  2.63\n",
       "4   0.31    2      1        2   63.3   58.0    335  4.34  4.35  2.75"
      ]
     },
     "execution_count": 45,
     "metadata": {},
     "output_type": "execute_result"
    }
   ],
   "source": [
    "diamonds.cut = diamonds.cut.map(cut_map)\n",
    "diamonds.color = diamonds.color.map(color_map)\n",
    "diamonds.clarity = diamonds.clarity.map(clarity_map)\n",
    "data_top = diamonds.head()\n",
    "data_top"
   ]
  },
  {
   "cell_type": "markdown",
   "metadata": {},
   "source": [
    "### C. Single regressions\n",
    "\n",
    "For each of the variables `carat`, `cut`, `color`, `clarity` use `LinearRegression` in `sklearn.linear_model` to train a linear regression that predicts `price` given that variable. Display the name of each predictor variable and the regression coefficient for that variable. Discuss what this model means (ie what does that coefficient imply about how changes in the variable would relate to changes in price?), and why this relationship does or does not make sense to you intuitively."
   ]
  },
  {
   "cell_type": "code",
   "execution_count": 108,
   "metadata": {},
   "outputs": [
    {
     "name": "stdout",
     "output_type": "stream",
     "text": [
      "carat\n",
      "[[7756.42561797]]\n",
      "cut\n",
      "[[-191.11390455]]\n",
      "color\n",
      "[[-404.57352268]]\n",
      "[[-355.55656156]]\n",
      "clarity\n"
     ]
    }
   ],
   "source": [
    "## Code here\n",
    "print(\"carat\") #the regression coefficient for that variable. \n",
    "temp_model = LinearRegression().fit(diamonds[[\"carat\"]],\n",
    "                                    diamonds[[\"price\"]]) \n",
    "print(temp_model.coef_)\n",
    "temp_model2 = LinearRegression().fit(diamonds[[\"cut\"]],\n",
    "                                    diamonds[[\"price\"]])\n",
    "print(\"cut\")\n",
    "print(temp_model2.coef_)\n",
    "temp_model3 = LinearRegression().fit(diamonds[[\"color\"]],\n",
    "                                    diamonds[[\"price\"]])\n",
    "print(\"color\")\n",
    "print(temp_model3.coef_)\n",
    "temp_model4 = LinearRegression().fit(diamonds[[\"clarity\"]],\n",
    "                                    diamonds[[\"price\"]])\n",
    "print(temp_model4.coef_)\n",
    "print(\"clarity\")"
   ]
  },
  {
   "cell_type": "markdown",
   "metadata": {},
   "source": [
    "Discussion here: The correlations are often negative except for size. This is likely because size is so much more important than the other factors that their influence is low that it is sometimes negative. There might also be other factors that we are not aware of such as error.\n"
   ]
  },
  {
   "cell_type": "markdown",
   "metadata": {},
   "source": [
    "### D. Multiple regression\n",
    "\n",
    "Now train a single linear regression that uses all four inputs to predict `price`. Display the coefficients for each predictor. Describe how they are or are not different from the individual regressions. If they are different, make an argument about why modeling these variables jointly would result in different relationships than modeling them individually."
   ]
  },
  {
   "cell_type": "code",
   "execution_count": 56,
   "metadata": {},
   "outputs": [
    {
     "data": {
      "text/plain": [
       "array([[8783.77178649,  155.69989609,  319.67269747,  524.84347001]])"
      ]
     },
     "execution_count": 56,
     "metadata": {},
     "output_type": "execute_result"
    }
   ],
   "source": [
    "## Code here\n",
    "predictors = [\"carat\", \"cut\", \"color\", \"clarity\"]\n",
    "temp_model = LinearRegression().fit(diamonds[predictors],\n",
    "                                    diamonds[[\"price\"]])\n",
    "temp_model.coef_"
   ]
  },
  {
   "cell_type": "markdown",
   "metadata": {
    "collapsed": true
   },
   "source": [
    "Discussion here:\n",
    "Since size (carat) yeilds a positive correlation it yeilds greater values than the other ones yielding a distinct correlation with price. Thus really the main predictor for the price is simply the carat, the other predictors have little to no influence or correlation. When you combine the influence of Carat on Cut, Color, and clarity, its influence is so great that it yeilds a larger coefficient."
   ]
  }
 ],
 "metadata": {
  "kernelspec": {
   "display_name": "Python 3",
   "language": "python",
   "name": "python3"
  },
  "language_info": {
   "codemirror_mode": {
    "name": "ipython",
    "version": 3
   },
   "file_extension": ".py",
   "mimetype": "text/x-python",
   "name": "python",
   "nbconvert_exporter": "python",
   "pygments_lexer": "ipython3",
   "version": "3.6.5"
  }
 },
 "nbformat": 4,
 "nbformat_minor": 2
}
