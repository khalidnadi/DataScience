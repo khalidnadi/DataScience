{
 "cells": [
  {
   "cell_type": "markdown",
   "metadata": {},
   "source": [
    "## Problem Set 7\n",
    "\n",
    "Goal: Practice data import and regression. Provide patterns that are likely to be useful in your projects.\n",
    "\n",
    "* Data curation: invalid values\n",
    "* Changing input variables: strings to indicators\n",
    "* Changing output variables\n",
    "* Colinearity: when inputs tell you the same thing"
   ]
  },
  {
   "cell_type": "markdown",
   "metadata": {},
   "source": [
    "### Q1: Project brainstorming\n",
    "\n",
    "We have started working on the final project for the course. Finding an idea that is both exciting and workable is one of the most challenging parts. We will take some time at the beginning of the session to present ideas to other students and offer comments.\n",
    "\n",
    "Try to be as specific as possible. The biggest killer of cool projects is data availability. Where will you find information, and how much work will it be to get it in a usable form?\n",
    "\n",
    "Describe some feedback you got and some you offered. Answer individually even if you are working in a group."
   ]
  },
  {
   "cell_type": "markdown",
   "metadata": {},
   "source": [
    "Feedback you got on your project: I was told that doing a project on the relationship between Employees and their review for their company was pretty interesting. The dataset though pretty large did not include enough attributes. "
   ]
  },
  {
   "cell_type": "markdown",
   "metadata": {},
   "source": [
    "Feedback you offered on other students' projects:"
   ]
  },
  {
   "cell_type": "code",
   "execution_count": 1,
   "metadata": {},
   "outputs": [],
   "source": [
    "import pandas, numpy\n",
    "from matplotlib import pyplot\n",
    "import scipy.stats\n",
    "from sklearn.linear_model import LinearRegression"
   ]
  },
  {
   "cell_type": "markdown",
   "metadata": {},
   "source": [
    "For the remaining part of the homework we'll be working with a dataset of information about cars that was compiled in 1985."
   ]
  },
  {
   "cell_type": "code",
   "execution_count": 2,
   "metadata": {},
   "outputs": [],
   "source": [
    "## https://www.kaggle.com/toramky/automobile-dataset\n",
    "## You'll see this dataset in online examples often.\n",
    "cars = pandas.read_csv(\"Automobile_data.csv\")"
   ]
  },
  {
   "cell_type": "code",
   "execution_count": 3,
   "metadata": {},
   "outputs": [
    {
     "data": {
      "text/html": [
       "<div>\n",
       "<style scoped>\n",
       "    .dataframe tbody tr th:only-of-type {\n",
       "        vertical-align: middle;\n",
       "    }\n",
       "\n",
       "    .dataframe tbody tr th {\n",
       "        vertical-align: top;\n",
       "    }\n",
       "\n",
       "    .dataframe thead th {\n",
       "        text-align: right;\n",
       "    }\n",
       "</style>\n",
       "<table border=\"1\" class=\"dataframe\">\n",
       "  <thead>\n",
       "    <tr style=\"text-align: right;\">\n",
       "      <th></th>\n",
       "      <th>symboling</th>\n",
       "      <th>normalized-losses</th>\n",
       "      <th>make</th>\n",
       "      <th>fuel-type</th>\n",
       "      <th>aspiration</th>\n",
       "      <th>num-of-doors</th>\n",
       "      <th>body-style</th>\n",
       "      <th>drive-wheels</th>\n",
       "      <th>engine-location</th>\n",
       "      <th>wheel-base</th>\n",
       "      <th>...</th>\n",
       "      <th>engine-size</th>\n",
       "      <th>fuel-system</th>\n",
       "      <th>bore</th>\n",
       "      <th>stroke</th>\n",
       "      <th>compression-ratio</th>\n",
       "      <th>horsepower</th>\n",
       "      <th>peak-rpm</th>\n",
       "      <th>city-mpg</th>\n",
       "      <th>highway-mpg</th>\n",
       "      <th>price</th>\n",
       "    </tr>\n",
       "  </thead>\n",
       "  <tbody>\n",
       "    <tr>\n",
       "      <th>0</th>\n",
       "      <td>3</td>\n",
       "      <td>?</td>\n",
       "      <td>alfa-romero</td>\n",
       "      <td>gas</td>\n",
       "      <td>std</td>\n",
       "      <td>two</td>\n",
       "      <td>convertible</td>\n",
       "      <td>rwd</td>\n",
       "      <td>front</td>\n",
       "      <td>88.6</td>\n",
       "      <td>...</td>\n",
       "      <td>130</td>\n",
       "      <td>mpfi</td>\n",
       "      <td>3.47</td>\n",
       "      <td>2.68</td>\n",
       "      <td>9.0</td>\n",
       "      <td>111</td>\n",
       "      <td>5000</td>\n",
       "      <td>21</td>\n",
       "      <td>27</td>\n",
       "      <td>13495</td>\n",
       "    </tr>\n",
       "    <tr>\n",
       "      <th>1</th>\n",
       "      <td>3</td>\n",
       "      <td>?</td>\n",
       "      <td>alfa-romero</td>\n",
       "      <td>gas</td>\n",
       "      <td>std</td>\n",
       "      <td>two</td>\n",
       "      <td>convertible</td>\n",
       "      <td>rwd</td>\n",
       "      <td>front</td>\n",
       "      <td>88.6</td>\n",
       "      <td>...</td>\n",
       "      <td>130</td>\n",
       "      <td>mpfi</td>\n",
       "      <td>3.47</td>\n",
       "      <td>2.68</td>\n",
       "      <td>9.0</td>\n",
       "      <td>111</td>\n",
       "      <td>5000</td>\n",
       "      <td>21</td>\n",
       "      <td>27</td>\n",
       "      <td>16500</td>\n",
       "    </tr>\n",
       "    <tr>\n",
       "      <th>2</th>\n",
       "      <td>1</td>\n",
       "      <td>?</td>\n",
       "      <td>alfa-romero</td>\n",
       "      <td>gas</td>\n",
       "      <td>std</td>\n",
       "      <td>two</td>\n",
       "      <td>hatchback</td>\n",
       "      <td>rwd</td>\n",
       "      <td>front</td>\n",
       "      <td>94.5</td>\n",
       "      <td>...</td>\n",
       "      <td>152</td>\n",
       "      <td>mpfi</td>\n",
       "      <td>2.68</td>\n",
       "      <td>3.47</td>\n",
       "      <td>9.0</td>\n",
       "      <td>154</td>\n",
       "      <td>5000</td>\n",
       "      <td>19</td>\n",
       "      <td>26</td>\n",
       "      <td>16500</td>\n",
       "    </tr>\n",
       "    <tr>\n",
       "      <th>3</th>\n",
       "      <td>2</td>\n",
       "      <td>164</td>\n",
       "      <td>audi</td>\n",
       "      <td>gas</td>\n",
       "      <td>std</td>\n",
       "      <td>four</td>\n",
       "      <td>sedan</td>\n",
       "      <td>fwd</td>\n",
       "      <td>front</td>\n",
       "      <td>99.8</td>\n",
       "      <td>...</td>\n",
       "      <td>109</td>\n",
       "      <td>mpfi</td>\n",
       "      <td>3.19</td>\n",
       "      <td>3.4</td>\n",
       "      <td>10.0</td>\n",
       "      <td>102</td>\n",
       "      <td>5500</td>\n",
       "      <td>24</td>\n",
       "      <td>30</td>\n",
       "      <td>13950</td>\n",
       "    </tr>\n",
       "    <tr>\n",
       "      <th>4</th>\n",
       "      <td>2</td>\n",
       "      <td>164</td>\n",
       "      <td>audi</td>\n",
       "      <td>gas</td>\n",
       "      <td>std</td>\n",
       "      <td>four</td>\n",
       "      <td>sedan</td>\n",
       "      <td>4wd</td>\n",
       "      <td>front</td>\n",
       "      <td>99.4</td>\n",
       "      <td>...</td>\n",
       "      <td>136</td>\n",
       "      <td>mpfi</td>\n",
       "      <td>3.19</td>\n",
       "      <td>3.4</td>\n",
       "      <td>8.0</td>\n",
       "      <td>115</td>\n",
       "      <td>5500</td>\n",
       "      <td>18</td>\n",
       "      <td>22</td>\n",
       "      <td>17450</td>\n",
       "    </tr>\n",
       "  </tbody>\n",
       "</table>\n",
       "<p>5 rows × 26 columns</p>\n",
       "</div>"
      ],
      "text/plain": [
       "   symboling normalized-losses         make fuel-type aspiration num-of-doors  \\\n",
       "0          3                 ?  alfa-romero       gas        std          two   \n",
       "1          3                 ?  alfa-romero       gas        std          two   \n",
       "2          1                 ?  alfa-romero       gas        std          two   \n",
       "3          2               164         audi       gas        std         four   \n",
       "4          2               164         audi       gas        std         four   \n",
       "\n",
       "    body-style drive-wheels engine-location  wheel-base  ...    engine-size  \\\n",
       "0  convertible          rwd           front        88.6  ...            130   \n",
       "1  convertible          rwd           front        88.6  ...            130   \n",
       "2    hatchback          rwd           front        94.5  ...            152   \n",
       "3        sedan          fwd           front        99.8  ...            109   \n",
       "4        sedan          4wd           front        99.4  ...            136   \n",
       "\n",
       "   fuel-system  bore  stroke compression-ratio horsepower  peak-rpm city-mpg  \\\n",
       "0         mpfi  3.47    2.68               9.0        111      5000       21   \n",
       "1         mpfi  3.47    2.68               9.0        111      5000       21   \n",
       "2         mpfi  2.68    3.47               9.0        154      5000       19   \n",
       "3         mpfi  3.19     3.4              10.0        102      5500       24   \n",
       "4         mpfi  3.19     3.4               8.0        115      5500       18   \n",
       "\n",
       "  highway-mpg  price  \n",
       "0          27  13495  \n",
       "1          27  16500  \n",
       "2          26  16500  \n",
       "3          30  13950  \n",
       "4          22  17450  \n",
       "\n",
       "[5 rows x 26 columns]"
      ]
     },
     "execution_count": 3,
     "metadata": {},
     "output_type": "execute_result"
    }
   ],
   "source": [
    "cars.head()"
   ]
  },
  {
   "cell_type": "markdown",
   "metadata": {},
   "source": [
    "### Q : City vs. Highway fuel economy\n",
    "\n",
    "Display a scatter plot showing `city-mpg` on the $x$-axis and `highway-mpg` on the $y$-axis. Display all points, and start both axes from zero.\n",
    "\n",
    "Use the sklearn LinearRegression tool to calculate the regression coefficient and intercept to predict `highway-mpg` given `city-mpg`. Display those values, making it clear which is which.\n",
    "\n",
    "In the provided field describe what you learned about fuel efficiency from this model. Is this result surprising? What other hypotheses might you have had?"
   ]
  },
  {
   "cell_type": "code",
   "execution_count": 4,
   "metadata": {},
   "outputs": [
    {
     "data": {
      "text/plain": [
       "Text(0,0.5,'highway-mpg')"
      ]
     },
     "execution_count": 4,
     "metadata": {},
     "output_type": "execute_result"
    },
    {
     "data": {
      "image/png": "[encoded data removed]",
      "text/plain": [
       "<Figure size 432x288 with 1 Axes>"
      ]
     },
     "metadata": {},
     "output_type": "display_data"
    }
   ],
   "source": [
    "# plot here\n",
    "pyplot.scatter(cars['city-mpg'], cars['highway-mpg'], alpha = 0.1)\n",
    "pyplot.xlabel('city-mpg')\n",
    "pyplot.ylabel('highway-mpg')\n",
    "# pyplot.xlim(left=0)\n",
    "# pyplot.ylim(bottom=0)"
   ]
  },
  {
   "cell_type": "code",
   "execution_count": 26,
   "metadata": {},
   "outputs": [
    {
     "data": {
      "text/plain": [
       "Text(0,0.5,'highway-mpg')"
      ]
     },
     "execution_count": 26,
     "metadata": {},
     "output_type": "execute_result"
    },
    {
     "data": {
      "image/png": "[encoded data removed]",
      "text/plain": [
       "<Figure size 432x288 with 1 Axes>"
      ]
     },
     "metadata": {},
     "output_type": "display_data"
    }
   ],
   "source": [
    "# plot here no alpha shade\n",
    "pyplot.scatter(cars['city-mpg'], cars['highway-mpg'])\n",
    "pyplot.xlabel('city-mpg')\n",
    "pyplot.ylabel('highway-mpg')\n"
   ]
  },
  {
   "cell_type": "code",
   "execution_count": 6,
   "metadata": {
    "scrolled": false
   },
   "outputs": [
    {
     "name": "stdout",
     "output_type": "stream",
     "text": [
      "Regression Coefficient: [[1.02245681]]\n",
      "estimate for b intercept : [4.96535745]\n"
     ]
    }
   ],
   "source": [
    "# regression here\n",
    "model = LinearRegression().fit(cars[['city-mpg']],cars[['highway-mpg']])\n",
    "print(\"Regression Coefficient:\",model.coef_)\n",
    "print(\"estimate for b intercept :\", model.intercept_)\n",
    "# numpy.array(cars['city-mpg']).reshape(-1,1)"
   ]
  },
  {
   "cell_type": "code",
   "execution_count": 17,
   "metadata": {},
   "outputs": [
    {
     "name": "stdout",
     "output_type": "stream",
     "text": [
      "R Squared Estimate: \n",
      "0.9448058325717491\n",
      "estimate for b intercept  [4.96535745]\n"
     ]
    }
   ],
   "source": [
    "##model.coef_\n",
    "print('R Squared Estimate: ')\n",
    "coeff = model.score(cars[['city-mpg']],cars[['highway-mpg']])\n",
    "print(coeff)\n",
    "print('estimate for b intercept ',model.intercept_)"
   ]
  },
  {
   "cell_type": "markdown",
   "metadata": {},
   "source": [
    "Describe your interpretation of these values here:\n",
    "It appears as if there is a very clear linear correlation between highway mile per gallon usage and city driving mile per gallon usage. More efficient cars often have traits that are shared and cause similar efficency measures no matter the environment. For example a large SUV with a large engine requires a lot of gasoline in order to carry the SUV and run its large V8 engine. On the other hand a small civic or corolla runs a smaller engine no matter what the setting is. It also appears that in cities usage is higher causing a consistent shift in the data upwars apx (Y-intercept Units) higher. This is likely because city driving requires constant acceleration and deaccelaration which requires more gas.\n",
    "I expected that more efficient cars would be more efficient in cities as opposed to highway because they might have better accelaration mechanisms but it appears as if that is not the case or that makes a very small difference. Similarly, the way that an individual drives a car dramatically changes the efficiency (agressive driver who clicks the gas pedal more than neccessary vs a more calm driver).\n"
   ]
  },
  {
   "cell_type": "markdown",
   "metadata": {},
   "source": [
    "### Q body style indicator inputs\n",
    "\n",
    "We know how to use numerical values as inputs, but many interesting variables are categorical. We'll look at the `body-style` variable:"
   ]
  },
  {
   "cell_type": "code",
   "execution_count": 8,
   "metadata": {},
   "outputs": [
    {
     "data": {
      "text/plain": [
       "body-style\n",
       "convertible     6\n",
       "hardtop         8\n",
       "hatchback      70\n",
       "sedan          96\n",
       "wagon          25\n",
       "Name: body-style, dtype: int64"
      ]
     },
     "execution_count": 8,
     "metadata": {},
     "output_type": "execute_result"
    }
   ],
   "source": [
    "cars.groupby(\"body-style\")[\"body-style\"].count()"
   ]
  },
  {
   "cell_type": "markdown",
   "metadata": {},
   "source": [
    "Usually we can use either of two ways of requesting a specific field from a pandas data frame: `frame[\"x\"]` and `frame.x`. Can we use both styles for the `body-style` field? If not, why?"
   ]
  },
  {
   "cell_type": "markdown",
   "metadata": {},
   "source": [
    "Answer here:\n",
    "\n",
    "No the frame[\"x\"] syntax will not work since it is designed for character containing strings whereas the body-style field also contains special characters\n",
    "\n",
    "Lets test it: In this case, the body style only works with the first one and with the make (which doesn't contain a dash)"
   ]
  },
  {
   "cell_type": "code",
   "execution_count": 9,
   "metadata": {},
   "outputs": [
    {
     "data": {
      "text/plain": [
       "0      alfa-romero\n",
       "1      alfa-romero\n",
       "2      alfa-romero\n",
       "3             audi\n",
       "4             audi\n",
       "5             audi\n",
       "6             audi\n",
       "7             audi\n",
       "8             audi\n",
       "9             audi\n",
       "10             bmw\n",
       "11             bmw\n",
       "12             bmw\n",
       "13             bmw\n",
       "14             bmw\n",
       "15             bmw\n",
       "16             bmw\n",
       "17             bmw\n",
       "18       chevrolet\n",
       "19       chevrolet\n",
       "20       chevrolet\n",
       "21           dodge\n",
       "22           dodge\n",
       "23           dodge\n",
       "24           dodge\n",
       "25           dodge\n",
       "26           dodge\n",
       "27           dodge\n",
       "28           dodge\n",
       "29           dodge\n",
       "          ...     \n",
       "175         toyota\n",
       "176         toyota\n",
       "177         toyota\n",
       "178         toyota\n",
       "179         toyota\n",
       "180         toyota\n",
       "181         toyota\n",
       "182     volkswagen\n",
       "183     volkswagen\n",
       "184     volkswagen\n",
       "185     volkswagen\n",
       "186     volkswagen\n",
       "187     volkswagen\n",
       "188     volkswagen\n",
       "189     volkswagen\n",
       "190     volkswagen\n",
       "191     volkswagen\n",
       "192     volkswagen\n",
       "193     volkswagen\n",
       "194          volvo\n",
       "195          volvo\n",
       "196          volvo\n",
       "197          volvo\n",
       "198          volvo\n",
       "199          volvo\n",
       "200          volvo\n",
       "201          volvo\n",
       "202          volvo\n",
       "203          volvo\n",
       "204          volvo\n",
       "Name: make, Length: 205, dtype: object"
      ]
     },
     "execution_count": 9,
     "metadata": {},
     "output_type": "execute_result"
    }
   ],
   "source": [
    "cars[\"body-style\"] \n",
    "# cars.body-style crashes the program\n",
    "cars.make"
   ]
  },
  {
   "cell_type": "markdown",
   "metadata": {},
   "source": [
    "There are five distinct values (this was before SUVs were a thing). To use this variable as an input we need to transform it into five variables (one per value) that are 1 if the `body-style` variable has that value, and 0 otherwise. Only one of these new variables will be active for any given car, so this way of encoding categories is sometimes called \"one hot\". Other terms are \"indicator variables\" or \"dummy variables\".\n",
    "\n",
    "Use the `pandas.get_dummies()` function to create a new dataframe called `style_dummies` with five 0/1 variables. Display the first five rows.\n",
    "\n",
    "Use the `style_dummies` as input to a linear regression predicting `highway-mpg`. Display the name associated with each coefficient (Hint: call `list()` on a data frame to get the column names).\n",
    "\n",
    "Discuss whether this result matches your knowledge about car styles."
   ]
  },
  {
   "cell_type": "code",
   "execution_count": 10,
   "metadata": {},
   "outputs": [
    {
     "data": {
      "text/html": [
       "<div>\n",
       "<style scoped>\n",
       "    .dataframe tbody tr th:only-of-type {\n",
       "        vertical-align: middle;\n",
       "    }\n",
       "\n",
       "    .dataframe tbody tr th {\n",
       "        vertical-align: top;\n",
       "    }\n",
       "\n",
       "    .dataframe thead th {\n",
       "        text-align: right;\n",
       "    }\n",
       "</style>\n",
       "<table border=\"1\" class=\"dataframe\">\n",
       "  <thead>\n",
       "    <tr style=\"text-align: right;\">\n",
       "      <th></th>\n",
       "      <th>convertible</th>\n",
       "      <th>hardtop</th>\n",
       "      <th>hatchback</th>\n",
       "      <th>sedan</th>\n",
       "      <th>wagon</th>\n",
       "    </tr>\n",
       "  </thead>\n",
       "  <tbody>\n",
       "    <tr>\n",
       "      <th>0</th>\n",
       "      <td>1</td>\n",
       "      <td>0</td>\n",
       "      <td>0</td>\n",
       "      <td>0</td>\n",
       "      <td>0</td>\n",
       "    </tr>\n",
       "    <tr>\n",
       "      <th>1</th>\n",
       "      <td>1</td>\n",
       "      <td>0</td>\n",
       "      <td>0</td>\n",
       "      <td>0</td>\n",
       "      <td>0</td>\n",
       "    </tr>\n",
       "    <tr>\n",
       "      <th>2</th>\n",
       "      <td>0</td>\n",
       "      <td>0</td>\n",
       "      <td>1</td>\n",
       "      <td>0</td>\n",
       "      <td>0</td>\n",
       "    </tr>\n",
       "    <tr>\n",
       "      <th>3</th>\n",
       "      <td>0</td>\n",
       "      <td>0</td>\n",
       "      <td>0</td>\n",
       "      <td>1</td>\n",
       "      <td>0</td>\n",
       "    </tr>\n",
       "    <tr>\n",
       "      <th>4</th>\n",
       "      <td>0</td>\n",
       "      <td>0</td>\n",
       "      <td>0</td>\n",
       "      <td>1</td>\n",
       "      <td>0</td>\n",
       "    </tr>\n",
       "  </tbody>\n",
       "</table>\n",
       "</div>"
      ],
      "text/plain": [
       "   convertible  hardtop  hatchback  sedan  wagon\n",
       "0            1        0          0      0      0\n",
       "1            1        0          0      0      0\n",
       "2            0        0          1      0      0\n",
       "3            0        0          0      1      0\n",
       "4            0        0          0      1      0"
      ]
     },
     "execution_count": 10,
     "metadata": {},
     "output_type": "execute_result"
    }
   ],
   "source": [
    "# create dummies here\n",
    "style_dummies = pandas.get_dummies(cars[\"body-style\"])\n",
    "style_dummies.head()"
   ]
  },
  {
   "cell_type": "code",
   "execution_count": 11,
   "metadata": {},
   "outputs": [
    {
     "name": "stdout",
     "output_type": "stream",
     "text": [
      "convertible  Coefficient:  -2.994952380952385\n",
      "hardtop  Coefficient:  -1.7449523809523784\n",
      "hatchback  Coefficient:  3.176476190476191\n",
      "sedan  Coefficient:  1.8383809523809556\n",
      "wagon  Coefficient:  -0.2749523809523789\n"
     ]
    }
   ],
   "source": [
    "dummy_model = LinearRegression().fit(style_dummies,cars[['highway-mpg']])\n",
    "\n",
    "for x in range(5):\n",
    "    print(list(style_dummies)[x], \" Coefficient: \", dummy_model.coef_[0][x])\n",
    "    "
   ]
  },
  {
   "cell_type": "markdown",
   "metadata": {},
   "source": [
    "Discuss your linear regression here:\n",
    "It appears like Hatchbacks and Sedans are the more efficient car styles with wagons being in the middle and convertibles and hardtops being the least efficient. This logically makes sense because convertibles and hardtops are often built as more luxury type cars with engines that favor performance over efficiency. The design of hatchbaks and convertibles often does not favor fluid resistance to air friction as opposed to other car styles. On the other hand hatchbags and sedans have smaller makeshift frames and are often designed to favor aerodynamics and efficency over performance and luxury looks.\n"
   ]
  },
  {
   "cell_type": "markdown",
   "metadata": {},
   "source": [
    "### Q : removing invalid values\n",
    "\n",
    "There are two `?`s in the `horsepower` column, so pandas will interpret the column as a string. Remove the rows with non-numeric values and convert the column to the type `float`. Consult documentation on converting strings to floats.\n",
    "\n",
    "Display the mean of the `horsepower` variable."
   ]
  },
  {
   "cell_type": "code",
   "execution_count": 14,
   "metadata": {},
   "outputs": [],
   "source": [
    "# Class Notes: \n",
    "#SELECT all entries such that data[horsepower] != \"horsepower\"\n",
    "\n",
    "#cars[logical criterion] ##this will return all rows in cars that satisfy the logical statement\n",
    "#cars[cars['highway-mpg']>15] ##return all rows in cars dataframe such that the car petaining tp that row has highway mpg > 15\n",
    "\n",
    "# cars = cars[cars['horsepower'] != \"?\"]\n",
    "# print(cars)"
   ]
  },
  {
   "cell_type": "code",
   "execution_count": 13,
   "metadata": {},
   "outputs": [
    {
     "name": "stdout",
     "output_type": "stream",
     "text": [
      "Average Horsepower: 104.25615763546799\n"
     ]
    }
   ],
   "source": [
    "# fix data here\n",
    "\n",
    "cars=cars[cars['horsepower'] != '?'] #Removes horsepower slots that are empty\n",
    "cars['horsepower'] = cars['horsepower'].astype(float)\n",
    "mean_hp = cars['horsepower'].mean()\n",
    "print(\"Average Horsepower:\", mean_hp)\n"
   ]
  },
  {
   "cell_type": "markdown",
   "metadata": {},
   "source": [
    "### Q : suspiciously similar predictors\n",
    "\n",
    "Add a new variable called `highway-gphm` to the `cars` data frame that is equal to 100 divided by `highway-mpg`. This is \"gallons per hundred miles\".\n",
    "\n",
    "For each of the following pairs of variables create a scatter plot showing the two variables as $x$ and $y$, then fit a linear regression predicting $y$ given $x$, and print the coefficient and intercept:\n",
    "1. `horsepower` and `highway-mpg`\n",
    "2. `engine-size` and `highway-mpg`\n",
    "1. `horsepower` and `highway-gphm`\n",
    "2. `engine-size` and `highway-gphm`\n",
    "3. `horsepower` and `engine-size`\n",
    "\n",
    "Now fit a linear regression predicting `highway-gphm` given `horsepower` and `engine-size`. Display the coefficients, making it clear which coefficient goes with which variable.\n",
    "\n",
    "Discuss why GPHM might be a better output variable than MPG. Discuss why the coefficients for the `horsepower` and `engine-size` variables are different when you fit the regression individually than when you fit them together in a single linear model."
   ]
  },
  {
   "cell_type": "code",
   "execution_count": 16,
   "metadata": {},
   "outputs": [
    {
     "data": {
      "text/html": [
       "<div>\n",
       "<style scoped>\n",
       "    .dataframe tbody tr th:only-of-type {\n",
       "        vertical-align: middle;\n",
       "    }\n",
       "\n",
       "    .dataframe tbody tr th {\n",
       "        vertical-align: top;\n",
       "    }\n",
       "\n",
       "    .dataframe thead th {\n",
       "        text-align: right;\n",
       "    }\n",
       "</style>\n",
       "<table border=\"1\" class=\"dataframe\">\n",
       "  <thead>\n",
       "    <tr style=\"text-align: right;\">\n",
       "      <th></th>\n",
       "      <th>symboling</th>\n",
       "      <th>normalized-losses</th>\n",
       "      <th>make</th>\n",
       "      <th>fuel-type</th>\n",
       "      <th>aspiration</th>\n",
       "      <th>num-of-doors</th>\n",
       "      <th>body-style</th>\n",
       "      <th>drive-wheels</th>\n",
       "      <th>engine-location</th>\n",
       "      <th>wheel-base</th>\n",
       "      <th>...</th>\n",
       "      <th>fuel-system</th>\n",
       "      <th>bore</th>\n",
       "      <th>stroke</th>\n",
       "      <th>compression-ratio</th>\n",
       "      <th>horsepower</th>\n",
       "      <th>peak-rpm</th>\n",
       "      <th>city-mpg</th>\n",
       "      <th>highway-mpg</th>\n",
       "      <th>price</th>\n",
       "      <th>highway-gphm</th>\n",
       "    </tr>\n",
       "  </thead>\n",
       "  <tbody>\n",
       "    <tr>\n",
       "      <th>0</th>\n",
       "      <td>3</td>\n",
       "      <td>?</td>\n",
       "      <td>alfa-romero</td>\n",
       "      <td>gas</td>\n",
       "      <td>std</td>\n",
       "      <td>two</td>\n",
       "      <td>convertible</td>\n",
       "      <td>rwd</td>\n",
       "      <td>front</td>\n",
       "      <td>88.6</td>\n",
       "      <td>...</td>\n",
       "      <td>mpfi</td>\n",
       "      <td>3.47</td>\n",
       "      <td>2.68</td>\n",
       "      <td>9.0</td>\n",
       "      <td>111.0</td>\n",
       "      <td>5000</td>\n",
       "      <td>21</td>\n",
       "      <td>27</td>\n",
       "      <td>13495</td>\n",
       "      <td>3.703704</td>\n",
       "    </tr>\n",
       "    <tr>\n",
       "      <th>1</th>\n",
       "      <td>3</td>\n",
       "      <td>?</td>\n",
       "      <td>alfa-romero</td>\n",
       "      <td>gas</td>\n",
       "      <td>std</td>\n",
       "      <td>two</td>\n",
       "      <td>convertible</td>\n",
       "      <td>rwd</td>\n",
       "      <td>front</td>\n",
       "      <td>88.6</td>\n",
       "      <td>...</td>\n",
       "      <td>mpfi</td>\n",
       "      <td>3.47</td>\n",
       "      <td>2.68</td>\n",
       "      <td>9.0</td>\n",
       "      <td>111.0</td>\n",
       "      <td>5000</td>\n",
       "      <td>21</td>\n",
       "      <td>27</td>\n",
       "      <td>16500</td>\n",
       "      <td>3.703704</td>\n",
       "    </tr>\n",
       "    <tr>\n",
       "      <th>2</th>\n",
       "      <td>1</td>\n",
       "      <td>?</td>\n",
       "      <td>alfa-romero</td>\n",
       "      <td>gas</td>\n",
       "      <td>std</td>\n",
       "      <td>two</td>\n",
       "      <td>hatchback</td>\n",
       "      <td>rwd</td>\n",
       "      <td>front</td>\n",
       "      <td>94.5</td>\n",
       "      <td>...</td>\n",
       "      <td>mpfi</td>\n",
       "      <td>2.68</td>\n",
       "      <td>3.47</td>\n",
       "      <td>9.0</td>\n",
       "      <td>154.0</td>\n",
       "      <td>5000</td>\n",
       "      <td>19</td>\n",
       "      <td>26</td>\n",
       "      <td>16500</td>\n",
       "      <td>3.846154</td>\n",
       "    </tr>\n",
       "    <tr>\n",
       "      <th>3</th>\n",
       "      <td>2</td>\n",
       "      <td>164</td>\n",
       "      <td>audi</td>\n",
       "      <td>gas</td>\n",
       "      <td>std</td>\n",
       "      <td>four</td>\n",
       "      <td>sedan</td>\n",
       "      <td>fwd</td>\n",
       "      <td>front</td>\n",
       "      <td>99.8</td>\n",
       "      <td>...</td>\n",
       "      <td>mpfi</td>\n",
       "      <td>3.19</td>\n",
       "      <td>3.4</td>\n",
       "      <td>10.0</td>\n",
       "      <td>102.0</td>\n",
       "      <td>5500</td>\n",
       "      <td>24</td>\n",
       "      <td>30</td>\n",
       "      <td>13950</td>\n",
       "      <td>3.333333</td>\n",
       "    </tr>\n",
       "    <tr>\n",
       "      <th>4</th>\n",
       "      <td>2</td>\n",
       "      <td>164</td>\n",
       "      <td>audi</td>\n",
       "      <td>gas</td>\n",
       "      <td>std</td>\n",
       "      <td>four</td>\n",
       "      <td>sedan</td>\n",
       "      <td>4wd</td>\n",
       "      <td>front</td>\n",
       "      <td>99.4</td>\n",
       "      <td>...</td>\n",
       "      <td>mpfi</td>\n",
       "      <td>3.19</td>\n",
       "      <td>3.4</td>\n",
       "      <td>8.0</td>\n",
       "      <td>115.0</td>\n",
       "      <td>5500</td>\n",
       "      <td>18</td>\n",
       "      <td>22</td>\n",
       "      <td>17450</td>\n",
       "      <td>4.545455</td>\n",
       "    </tr>\n",
       "  </tbody>\n",
       "</table>\n",
       "<p>5 rows × 27 columns</p>\n",
       "</div>"
      ],
      "text/plain": [
       "   symboling normalized-losses         make fuel-type aspiration num-of-doors  \\\n",
       "0          3                 ?  alfa-romero       gas        std          two   \n",
       "1          3                 ?  alfa-romero       gas        std          two   \n",
       "2          1                 ?  alfa-romero       gas        std          two   \n",
       "3          2               164         audi       gas        std         four   \n",
       "4          2               164         audi       gas        std         four   \n",
       "\n",
       "    body-style drive-wheels engine-location  wheel-base     ...       \\\n",
       "0  convertible          rwd           front        88.6     ...        \n",
       "1  convertible          rwd           front        88.6     ...        \n",
       "2    hatchback          rwd           front        94.5     ...        \n",
       "3        sedan          fwd           front        99.8     ...        \n",
       "4        sedan          4wd           front        99.4     ...        \n",
       "\n",
       "   fuel-system  bore  stroke  compression-ratio horsepower peak-rpm  city-mpg  \\\n",
       "0         mpfi  3.47    2.68                9.0      111.0     5000        21   \n",
       "1         mpfi  3.47    2.68                9.0      111.0     5000        21   \n",
       "2         mpfi  2.68    3.47                9.0      154.0     5000        19   \n",
       "3         mpfi  3.19     3.4               10.0      102.0     5500        24   \n",
       "4         mpfi  3.19     3.4                8.0      115.0     5500        18   \n",
       "\n",
       "  highway-mpg  price highway-gphm  \n",
       "0          27  13495     3.703704  \n",
       "1          27  16500     3.703704  \n",
       "2          26  16500     3.846154  \n",
       "3          30  13950     3.333333  \n",
       "4          22  17450     4.545455  \n",
       "\n",
       "[5 rows x 27 columns]"
      ]
     },
     "execution_count": 16,
     "metadata": {},
     "output_type": "execute_result"
    }
   ],
   "source": [
    "cars=cars[cars['highway-mpg'] > 0]\n",
    "new_gphm = []\n",
    "for mpg in list(cars['highway-mpg']):\n",
    "    new_gphm.append(100/mpg)\n",
    "cars['highway-gphm'] = new_gphm\n",
    "cars.head()"
   ]
  },
  {
   "cell_type": "code",
   "execution_count": 25,
   "metadata": {},
   "outputs": [
    {
     "data": {
      "image/png": "[encoded data removed]",
      "text/plain": [
       "<Figure size 432x288 with 1 Axes>"
      ]
     },
     "metadata": {},
     "output_type": "display_data"
    },
    {
     "name": "stdout",
     "output_type": "stream",
     "text": [
      "1: Horsepower by Highway MPG \n",
      "Coefficient:  [[-0.1343341]]\n",
      "Intercept Estimate:  [44.7539257]\n"
     ]
    },
    {
     "data": {
      "image/png": "[encoded data removed]",
      "text/plain": [
       "<Figure size 432x288 with 1 Axes>"
      ]
     },
     "metadata": {},
     "output_type": "display_data"
    },
    {
     "name": "stdout",
     "output_type": "stream",
     "text": [
      "2: Engine Size by Highway MPG \n",
      "Coefficient:  [[-0.11205688]]\n",
      "Intercept Estimate:  [44.9639837]\n"
     ]
    },
    {
     "data": {
      "image/png": "[encoded data removed]",
      "text/plain": [
       "<Figure size 432x288 with 1 Axes>"
      ]
     },
     "metadata": {},
     "output_type": "display_data"
    },
    {
     "name": "stdout",
     "output_type": "stream",
     "text": [
      "3: Horsepower by Highway GPHM \n",
      "Coefficient:  [[0.01596229]]\n",
      "Intercept Estimate:  [1.75660623]\n"
     ]
    },
    {
     "data": {
      "image/png": "[encoded data removed]",
      "text/plain": [
       "<Figure size 432x288 with 1 Axes>"
      ]
     },
     "metadata": {},
     "output_type": "display_data"
    },
    {
     "name": "stdout",
     "output_type": "stream",
     "text": [
      "4: Engine Size by Highway GPHM \n",
      "Coefficient:  [[0.01469632]]\n",
      "Intercept Estimate:  [1.55644056]\n"
     ]
    },
    {
     "data": {
      "image/png": "[encoded data removed]",
      "text/plain": [
       "<Figure size 432x288 with 1 Axes>"
      ]
     },
     "metadata": {},
     "output_type": "display_data"
    },
    {
     "name": "stdout",
     "output_type": "stream",
     "text": [
      "5: Horsepower by Engine Size \n",
      "Coefficient:  [[0.85427448]]\n",
      "Intercept Estimate:  [37.7937685]\n",
      "\n",
      "6: Horsepower and Engine Size by Highway GPHM \n",
      "Coefficient for highway GPHM vs. Horsepower:  [[0.00994491 0.00704385]]\n",
      "Coefficient for highway GPHM vs. Engine Size:  0.007043848805384111\n",
      "Intercept Estimate:  [1.49039264]\n"
     ]
    }
   ],
   "source": [
    "# plots and regressions here\n",
    "pyplot.scatter(cars['horsepower'],cars['highway-mpg'])\n",
    "pyplot.xlabel('Horsepower')\n",
    "pyplot.ylabel('Highway-mpg')\n",
    "pyplot.show()\n",
    "horespower_by_hmpg= LinearRegression().fit(cars[['horsepower']],cars[['highway-mpg']])\n",
    "print(\"1: Horsepower by Highway MPG \")\n",
    "print(\"Coefficient: \", horespower_by_hmpg.coef_)\n",
    "print(\"Intercept Estimate: \", horespower_by_hmpg.intercept_)\n",
    "\n",
    "pyplot.scatter(cars['engine-size'],cars['highway-mpg'])\n",
    "pyplot.xlabel('engine-size')\n",
    "pyplot.ylabel('highway-mpg')\n",
    "pyplot.show()\n",
    "ES_by_HMPG = LinearRegression().fit(cars[['engine-size']],cars[['highway-mpg']])\n",
    "print(\"2: Engine Size by Highway MPG \")\n",
    "print(\"Coefficient: \", ES_by_HMPG.coef_)\n",
    "print(\"Intercept Estimate: \", ES_by_HMPG.intercept_)\n",
    "\n",
    "pyplot.scatter(cars['horsepower'],cars['highway-gphm'])\n",
    "pyplot.xlabel('horsepower')\n",
    "pyplot.ylabel('highway-gphm')\n",
    "pyplot.show()\n",
    "HP_By_HGPHM = LinearRegression().fit(cars[['horsepower']],cars[['highway-gphm']])\n",
    "print(\"3: Horsepower by Highway GPHM \")\n",
    "print(\"Coefficient: \", HP_By_HGPHM.coef_)\n",
    "print(\"Intercept Estimate: \", HP_By_HGPHM.intercept_)\n",
    "\n",
    "pyplot.scatter(cars['engine-size'],cars['highway-gphm'])\n",
    "pyplot.xlabel('engine-size')\n",
    "pyplot.ylabel('highway-gphm')\n",
    "pyplot.show()\n",
    "ES_by_HGPHM = LinearRegression().fit(cars[['engine-size']],cars[['highway-gphm']])\n",
    "print(\"4: Engine Size by Highway GPHM \")\n",
    "print(\"Coefficient: \", ES_by_HGPHM.coef_)\n",
    "print(\"Intercept Estimate: \", ES_by_HGPHM.intercept_)\n",
    "\n",
    "pyplot.scatter(cars['horsepower'],cars['engine-size'])\n",
    "pyplot.xlabel('horsepower')\n",
    "pyplot.ylabel('engine-size')\n",
    "pyplot.show()\n",
    "hb_by_es = LinearRegression().fit(cars[['horsepower']],cars[['engine-size']])\n",
    "print(\"5: Horsepower by Engine Size \")\n",
    "print(\"Coefficient: \", hb_by_es.coef_)\n",
    "print(\"Intercept Estimate: \", hb_by_es.intercept_)\n",
    "print()\n",
    "\n",
    "hb_and_es_by_hgphm = LinearRegression().fit(cars[['horsepower', 'engine-size']],cars[['highway-gphm']] )\n",
    "print(\"6: Horsepower and Engine Size by Highway GPHM \")\n",
    "print(\"Coefficient for highway GPHM vs. Horsepower: \", hb_and_es_by_hgphm.coef_)\n",
    "print(\"Coefficient for highway GPHM vs. Engine Size: \", hb_and_es_by_hgphm.coef_[0][1])\n",
    "print(\"Intercept Estimate: \", hb_and_es_by_hgphm.intercept_)"
   ]
  },
  {
   "cell_type": "markdown",
   "metadata": {},
   "source": [
    "Discuss why GPHM might be a better output variable than MPG:"
   ]
  },
  {
   "cell_type": "markdown",
   "metadata": {},
   "source": [
    "These results show a very important point about mpg fuel efficiency. Many people mistake fuel efficiency as being a linear correlation that gets more efficient the same amount at different horespowers. However, in truth the correlation is actually more curved and thus more exponential different in most cases. Solely the horsepower by highway mpg and engine size by highway mpg are negative indication the opposite effect as when they are plotted with highway GPHM. Thus each individual variable has its benefits in understanding the car efficiency while GPHM is better at showing the differentiated affect of efficient cars that are specifically designed to be efficient in certain settings. "
   ]
  },
  {
   "cell_type": "markdown",
   "metadata": {},
   "source": [
    "Discuss why the coefficients for the horsepower and engine-size variables are different when you fit the regression individually than when you fit them together in a single linear model."
   ]
  },
  {
   "cell_type": "markdown",
   "metadata": {},
   "source": [
    "When the variables are fit individually the coefficient entirely depends on the individual effect on the coefficient whereas when they are fit together the coefficient has to take into consideration the interaction between the individual values. This causes their individual coefficients to be more correlating than when they are graphed together."
   ]
  }
 ],
 "metadata": {
  "kernelspec": {
   "display_name": "Python 3",
   "language": "python",
   "name": "python3"
  },
  "language_info": {
   "codemirror_mode": {
    "name": "ipython",
    "version": 3
   },
   "file_extension": ".py",
   "mimetype": "text/x-python",
   "name": "python",
   "nbconvert_exporter": "python",
   "pygments_lexer": "ipython3",
   "version": "3.6.5"
  }
 },
 "nbformat": 4,
 "nbformat_minor": 2
}
